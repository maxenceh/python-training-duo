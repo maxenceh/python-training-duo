{
 "cells": [
  {
   "cell_type": "code",
   "execution_count": 1,
   "id": "29ed7ed8",
   "metadata": {},
   "outputs": [],
   "source": [
    "import pandas as pd"
   ]
  },
  {
   "cell_type": "code",
   "execution_count": 2,
   "id": "49a2a2fe",
   "metadata": {},
   "outputs": [],
   "source": [
    "df = pd.read_csv(\"data/extract_realestatealerts.csv\")"
   ]
  },
  {
   "cell_type": "code",
   "execution_count": 3,
   "id": "3eaee1bf",
   "metadata": {},
   "outputs": [
    {
     "data": {
      "text/html": [
       "<div>\n",
       "<style scoped>\n",
       "    .dataframe tbody tr th:only-of-type {\n",
       "        vertical-align: middle;\n",
       "    }\n",
       "\n",
       "    .dataframe tbody tr th {\n",
       "        vertical-align: top;\n",
       "    }\n",
       "\n",
       "    .dataframe thead th {\n",
       "        text-align: right;\n",
       "    }\n",
       "</style>\n",
       "<table border=\"1\" class=\"dataframe\">\n",
       "  <thead>\n",
       "    <tr style=\"text-align: right;\">\n",
       "      <th></th>\n",
       "      <th>refuser_id</th>\n",
       "      <th>real_estate_alert_id</th>\n",
       "      <th>subscription_date</th>\n",
       "      <th>unsubscription_date</th>\n",
       "      <th>platform</th>\n",
       "      <th>distribution_type</th>\n",
       "      <th>estate_type</th>\n",
       "      <th>living_area_min</th>\n",
       "      <th>living_area_max</th>\n",
       "      <th>price_min</th>\n",
       "      <th>price_max</th>\n",
       "      <th>number_of_rooms</th>\n",
       "      <th>location_zipcodes</th>\n",
       "      <th>location_departement</th>\n",
       "      <th>gateway</th>\n",
       "    </tr>\n",
       "  </thead>\n",
       "  <tbody>\n",
       "    <tr>\n",
       "      <th>0</th>\n",
       "      <td>dc1fdcf7-dd4a-4d29-be7c-8d5d23d52618</td>\n",
       "      <td>63211857</td>\n",
       "      <td>2021-09-09 18:01:03.000000</td>\n",
       "      <td>2021-10-08 22:47:47.000000</td>\n",
       "      <td>LOGICIMMO</td>\n",
       "      <td>BUY</td>\n",
       "      <td>NaN</td>\n",
       "      <td>0.0</td>\n",
       "      <td>1000.0</td>\n",
       "      <td>0.0</td>\n",
       "      <td>0.0</td>\n",
       "      <td>{1,2,3,4,5}</td>\n",
       "      <td>{17730}</td>\n",
       "      <td>NaN</td>\n",
       "      <td>NaN</td>\n",
       "    </tr>\n",
       "    <tr>\n",
       "      <th>1</th>\n",
       "      <td>bce0f525-0fe8-4074-95e3-84f805f38389</td>\n",
       "      <td>62522466</td>\n",
       "      <td>2021-07-01 19:43:30.000000</td>\n",
       "      <td>NaN</td>\n",
       "      <td>LOGICIMMO</td>\n",
       "      <td>RENT</td>\n",
       "      <td>NaN</td>\n",
       "      <td>30.0</td>\n",
       "      <td>1000.0</td>\n",
       "      <td>0.0</td>\n",
       "      <td>600.0</td>\n",
       "      <td>{1,2,3,4,5}</td>\n",
       "      <td>{35000}</td>\n",
       "      <td>NaN</td>\n",
       "      <td>NaN</td>\n",
       "    </tr>\n",
       "    <tr>\n",
       "      <th>2</th>\n",
       "      <td>1dcb5a8b-917c-459a-a1bd-3b46610a84f4</td>\n",
       "      <td>62982629</td>\n",
       "      <td>2021-08-18 02:01:20.000000</td>\n",
       "      <td>NaN</td>\n",
       "      <td>LOGICIMMO</td>\n",
       "      <td>RENT</td>\n",
       "      <td>NaN</td>\n",
       "      <td>0.0</td>\n",
       "      <td>1000.0</td>\n",
       "      <td>0.0</td>\n",
       "      <td>0.0</td>\n",
       "      <td>{1,2,3,4,5}</td>\n",
       "      <td>{83000}</td>\n",
       "      <td>NaN</td>\n",
       "      <td>NaN</td>\n",
       "    </tr>\n",
       "    <tr>\n",
       "      <th>3</th>\n",
       "      <td>f596a761-4e73-464a-9cb1-9dfe9a0290de</td>\n",
       "      <td>61241448</td>\n",
       "      <td>2021-02-18 20:13:02.000000</td>\n",
       "      <td>2021-03-06 14:02:13.000000</td>\n",
       "      <td>LOGICIMMO</td>\n",
       "      <td>RENT</td>\n",
       "      <td>NaN</td>\n",
       "      <td>0.0</td>\n",
       "      <td>10000.0</td>\n",
       "      <td>0.0</td>\n",
       "      <td>750.0</td>\n",
       "      <td>{1,2,3,4,5}</td>\n",
       "      <td>NaN</td>\n",
       "      <td>{69}</td>\n",
       "      <td>NaN</td>\n",
       "    </tr>\n",
       "    <tr>\n",
       "      <th>4</th>\n",
       "      <td>6dda3e62-2ad1-4049-9fde-9b4517d755b9</td>\n",
       "      <td>63852238</td>\n",
       "      <td>2021-11-30 19:01:06.000000</td>\n",
       "      <td>NaN</td>\n",
       "      <td>LOGICIMMO</td>\n",
       "      <td>BUY</td>\n",
       "      <td>{HOUSEORVILLA}</td>\n",
       "      <td>100.0</td>\n",
       "      <td>1000.0</td>\n",
       "      <td>0.0</td>\n",
       "      <td>390000.0</td>\n",
       "      <td>{1,2,3,4,5}</td>\n",
       "      <td>{72000}</td>\n",
       "      <td>NaN</td>\n",
       "      <td>NaN</td>\n",
       "    </tr>\n",
       "  </tbody>\n",
       "</table>\n",
       "</div>"
      ],
      "text/plain": [
       "                             refuser_id  real_estate_alert_id  \\\n",
       "0  dc1fdcf7-dd4a-4d29-be7c-8d5d23d52618              63211857   \n",
       "1  bce0f525-0fe8-4074-95e3-84f805f38389              62522466   \n",
       "2  1dcb5a8b-917c-459a-a1bd-3b46610a84f4              62982629   \n",
       "3  f596a761-4e73-464a-9cb1-9dfe9a0290de              61241448   \n",
       "4  6dda3e62-2ad1-4049-9fde-9b4517d755b9              63852238   \n",
       "\n",
       "            subscription_date         unsubscription_date   platform  \\\n",
       "0  2021-09-09 18:01:03.000000  2021-10-08 22:47:47.000000  LOGICIMMO   \n",
       "1  2021-07-01 19:43:30.000000                         NaN  LOGICIMMO   \n",
       "2  2021-08-18 02:01:20.000000                         NaN  LOGICIMMO   \n",
       "3  2021-02-18 20:13:02.000000  2021-03-06 14:02:13.000000  LOGICIMMO   \n",
       "4  2021-11-30 19:01:06.000000                         NaN  LOGICIMMO   \n",
       "\n",
       "  distribution_type     estate_type  living_area_min  living_area_max  \\\n",
       "0               BUY             NaN              0.0           1000.0   \n",
       "1              RENT             NaN             30.0           1000.0   \n",
       "2              RENT             NaN              0.0           1000.0   \n",
       "3              RENT             NaN              0.0          10000.0   \n",
       "4               BUY  {HOUSEORVILLA}            100.0           1000.0   \n",
       "\n",
       "   price_min  price_max number_of_rooms location_zipcodes  \\\n",
       "0        0.0        0.0     {1,2,3,4,5}           {17730}   \n",
       "1        0.0      600.0     {1,2,3,4,5}           {35000}   \n",
       "2        0.0        0.0     {1,2,3,4,5}           {83000}   \n",
       "3        0.0      750.0     {1,2,3,4,5}               NaN   \n",
       "4        0.0   390000.0     {1,2,3,4,5}           {72000}   \n",
       "\n",
       "  location_departement  gateway  \n",
       "0                  NaN      NaN  \n",
       "1                  NaN      NaN  \n",
       "2                  NaN      NaN  \n",
       "3                 {69}      NaN  \n",
       "4                  NaN      NaN  "
      ]
     },
     "execution_count": 3,
     "metadata": {},
     "output_type": "execute_result"
    }
   ],
   "source": [
    "df.head()"
   ]
  },
  {
   "cell_type": "markdown",
   "id": "74a418a4",
   "metadata": {},
   "source": [
    "## Let's have a look at the distribution types"
   ]
  },
  {
   "cell_type": "markdown",
   "id": "379e3f9a",
   "metadata": {},
   "source": [
    "### Print the distinct values for distribution type"
   ]
  },
  {
   "cell_type": "code",
   "execution_count": 5,
   "id": "eeb445e2",
   "metadata": {},
   "outputs": [
    {
     "data": {
      "text/plain": [
       "array(['LOGICIMMO', 'LOGICIMMONEUF'], dtype=object)"
      ]
     },
     "execution_count": 5,
     "metadata": {},
     "output_type": "execute_result"
    }
   ],
   "source": [
    "df.platform.unique()"
   ]
  },
  {
   "cell_type": "markdown",
   "id": "a2e118c9",
   "metadata": {},
   "source": [
    "### Create a groupby object based on distribution_type"
   ]
  },
  {
   "cell_type": "code",
   "execution_count": null,
   "id": "b3b4e046",
   "metadata": {},
   "outputs": [],
   "source": [
    "grouped_distribution_type = df.groupby(\"distribution_type\")"
   ]
  },
  {
   "cell_type": "markdown",
   "id": "bb4dcbd9",
   "metadata": {},
   "source": [
    "### Print all stats per distribution_type for price_min and price_max"
   ]
  },
  {
   "cell_type": "code",
   "execution_count": null,
   "id": "7bd165b4",
   "metadata": {},
   "outputs": [],
   "source": [
    "# Type here\n",
    "\n",
    "\n"
   ]
  },
  {
   "cell_type": "markdown",
   "id": "80a71fb1",
   "metadata": {},
   "source": [
    "### Filter out the distribution_type which don't have a price_min. and price_max"
   ]
  },
  {
   "cell_type": "code",
   "execution_count": null,
   "id": "5cb09d1c",
   "metadata": {},
   "outputs": [],
   "source": [
    "# Type here\n",
    "\n"
   ]
  },
  {
   "cell_type": "markdown",
   "id": "472bf19d",
   "metadata": {},
   "source": [
    "..."
   ]
  }
 ],
 "metadata": {
  "kernelspec": {
   "display_name": "Python 3 (ipykernel)",
   "language": "python",
   "name": "python3"
  },
  "language_info": {
   "codemirror_mode": {
    "name": "ipython",
    "version": 3
   },
   "file_extension": ".py",
   "mimetype": "text/x-python",
   "name": "python",
   "nbconvert_exporter": "python",
   "pygments_lexer": "ipython3",
   "version": "3.9.12"
  }
 },
 "nbformat": 4,
 "nbformat_minor": 5
}
