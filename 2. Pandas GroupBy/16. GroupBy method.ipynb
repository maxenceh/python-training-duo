{
 "cells": [
  {
   "cell_type": "markdown",
   "id": "bc32e9d5",
   "metadata": {},
   "source": [
    "# <center> Dataframe Groupby\n",
    "## <center> Split - Apply - Combine\n",
    "    \n",
    "\n",
    "\n",
    "> By “group by” we are referring to a process involving one or more of the following steps:\n",
    "\n",
    "    - Splitting the data into groups/categories based on some criteria.\n",
    "\n",
    "    - Applying a function to each group independently.\n",
    "    \n",
    "    - Combining the results into a data structure.\n",
    "\n",
    "    \n",
    "*source https://pandas.pydata.org/docs/user_guide/groupby.html*"
   ]
  },
  {
   "cell_type": "markdown",
   "id": "e67346fb",
   "metadata": {},
   "source": [
    "![split_apply_combine](resources/split_apply_combine.png)"
   ]
  },
  {
   "cell_type": "markdown",
   "id": "40c231df",
   "metadata": {},
   "source": [
    "It's very similar to the sql group by:\n",
    "\n",
    "\n",
    "```sql\n",
    "    SELECT col_1, sum(col_2), count(col_3), max(col_4)\n",
    "    FROM table\n",
    "    GROUP BY col_1\n",
    "    HAVING count(col_3) > x\n",
    "```"
   ]
  },
  {
   "cell_type": "markdown",
   "id": "76d63b16",
   "metadata": {},
   "source": [
    "# Part 1: Split"
   ]
  },
  {
   "cell_type": "markdown",
   "id": "3f56cf44",
   "metadata": {},
   "source": [
    "## One method: pandas.Dataframe.groupby()\n",
    "\n",
    "This methods enable to group by row (multiple columns together) or by column (multiple rows together)\n",
    "\n",
    "We will focus on grouping **by column**\n",
    "\n",
    "The syntax is:\n",
    "    \n",
    "```python\n",
    "    grouped = df.groupby(\"column_name\")\n",
    "```\n",
    "\n",
    "> - df is a **pandas.Dataframe**\n",
    "> - we use the methods groupby\n",
    "> - we choose one column to group by is values\n",
    "> - grouped has a special type **pandas.GroupBy**\n",
    "\n",
    "\n",
    "https://pandas.pydata.org/docs/reference/groupby.html"
   ]
  },
  {
   "cell_type": "markdown",
   "id": "63c5a96d",
   "metadata": {},
   "source": [
    "**Example**"
   ]
  },
  {
   "cell_type": "code",
   "execution_count": null,
   "id": "3f63e267",
   "metadata": {},
   "outputs": [],
   "source": [
    "import pandas as pd"
   ]
  },
  {
   "cell_type": "code",
   "execution_count": null,
   "id": "3c0ed81c",
   "metadata": {},
   "outputs": [],
   "source": [
    "df = pd.read_csv(\"data/users.csv\", sep=';')\n",
    "df = df.head(100)\n",
    "df.head()"
   ]
  },
  {
   "cell_type": "code",
   "execution_count": null,
   "id": "f84e0b26",
   "metadata": {},
   "outputs": [],
   "source": [
    "grouped = df.groupby('channelgrouping')"
   ]
  },
  {
   "cell_type": "code",
   "execution_count": null,
   "id": "af94f078",
   "metadata": {},
   "outputs": [],
   "source": [
    "grouped"
   ]
  },
  {
   "cell_type": "markdown",
   "id": "d32d078e",
   "metadata": {},
   "source": [
    "## Get informations about a GroupBy object"
   ]
  },
  {
   "cell_type": "markdown",
   "id": "d005735b",
   "metadata": {},
   "source": [
    "### GroupBy describe()\n",
    "\n",
    "Returns a table of statistics about each group"
   ]
  },
  {
   "cell_type": "code",
   "execution_count": null,
   "id": "c48c8709",
   "metadata": {},
   "outputs": [],
   "source": [
    "grouped.describe()"
   ]
  },
  {
   "cell_type": "markdown",
   "id": "73e3886c",
   "metadata": {},
   "source": [
    "### GroupBy groups\n",
    "\n",
    "Return a dict: \n",
    "\n",
    "```\n",
    "{group names: [rows index]}\n",
    "```\n",
    "\n",
    "- Useful to know the number of groups\n",
    "- Enable to iterate on groups"
   ]
  },
  {
   "cell_type": "code",
   "execution_count": null,
   "id": "d227f39c",
   "metadata": {},
   "outputs": [],
   "source": [
    "for name, group in grouped:\n",
    "    print(name)    \n",
    "    print(type(group))"
   ]
  },
  {
   "cell_type": "code",
   "execution_count": null,
   "id": "b55fdf6e",
   "metadata": {},
   "outputs": [],
   "source": [
    "for name, group in grouped.groups.items():\n",
    "    print('------')\n",
    "    print(name)\n",
    "    print(group)\n",
    "    print('\\n')"
   ]
  },
  {
   "cell_type": "code",
   "execution_count": null,
   "id": "6fab9ac8",
   "metadata": {},
   "outputs": [],
   "source": [
    "number_of_groups = len(grouped.groups)\n",
    "number_of_groups"
   ]
  },
  {
   "cell_type": "markdown",
   "id": "606bbcc3",
   "metadata": {},
   "source": [
    "### GroupBy get_group()\n",
    "\n",
    "Return a dataframe of a specific group"
   ]
  },
  {
   "cell_type": "code",
   "execution_count": null,
   "id": "f8aa2425",
   "metadata": {},
   "outputs": [],
   "source": [
    "grouped.get_group(\"direct\")"
   ]
  },
  {
   "cell_type": "markdown",
   "id": "84057a5f",
   "metadata": {},
   "source": [
    "### GroupBy: select some columns\n",
    "\n",
    "\n",
    "> grouped[[\"list\", \"of\", \"column\", 'names]]"
   ]
  },
  {
   "cell_type": "code",
   "execution_count": null,
   "id": "a5609867",
   "metadata": {},
   "outputs": [],
   "source": [
    "grouped_page_views = grouped[[\"date\", \"fullvisitorid\", \"pageviews\"]]\n",
    "grouped_page_views.get_group(\"direct\").head()"
   ]
  },
  {
   "cell_type": "markdown",
   "id": "7a21dc13",
   "metadata": {},
   "source": [
    "# Part 2: Apply"
   ]
  },
  {
   "cell_type": "markdown",
   "id": "d34f3dc9",
   "metadata": {},
   "source": [
    "Apply can have several meanings:\n",
    "\n",
    "### Aggregation\n",
    "#### Compute a summary statistic (or statistics) for each group.\n",
    "\n",
    "- *Compute group sums or means.*\n",
    "- *Compute group sizes / counts.*\n",
    "\n",
    "### Transformation\n",
    "#### Perform some group-specific computations and return a like-indexed object.\n",
    "\n",
    "- *Filling NAs within groups with a value derived from each group.*\n",
    "- *Standardize data (zscore) within a group.*\n",
    "\n",
    "\n",
    "### Filtration\n",
    "#### Discard some groups, according to a group-wise computation that evaluates True or False.\n",
    "\n",
    "- Discard data that belongs to groups with only a few members.*\n",
    "- *Filter out data based on the group sum or mean.*"
   ]
  },
  {
   "cell_type": "markdown",
   "id": "1658ce2c",
   "metadata": {},
   "source": [
    "## 2.1 Aggregation"
   ]
  },
  {
   "cell_type": "markdown",
   "id": "20daac51",
   "metadata": {},
   "source": [
    "The result of the aggregation will have the group names as the **new index**"
   ]
  },
  {
   "cell_type": "markdown",
   "id": "9da3b759",
   "metadata": {},
   "source": [
    "### Basic Aggregations"
   ]
  },
  {
   "cell_type": "code",
   "execution_count": null,
   "id": "57f318b3",
   "metadata": {},
   "outputs": [],
   "source": [
    "light_df = df[[\"channelgrouping\", \"date\", \"fullvisitorid\", \"pageviews\"]]\n",
    "\n",
    "grouped = light_df.groupby(\"channelgrouping\")\n"
   ]
  },
  {
   "cell_type": "code",
   "execution_count": null,
   "id": "8e9875fb",
   "metadata": {},
   "outputs": [],
   "source": [
    "light_df"
   ]
  },
  {
   "cell_type": "markdown",
   "id": "5e7234ef",
   "metadata": {},
   "source": [
    "The methods describe() returns a dataframe with all basic arithmetic aggregation for each group and for each column:\n",
    "\n",
    "- count\n",
    "- mean\n",
    "- std\n",
    "- min\n",
    "- quartiles\n",
    "- max"
   ]
  },
  {
   "cell_type": "code",
   "execution_count": null,
   "id": "fcc856ca",
   "metadata": {},
   "outputs": [],
   "source": [
    "grouped.describe()"
   ]
  },
  {
   "cell_type": "markdown",
   "id": "4898b6ec",
   "metadata": {},
   "source": [
    "We can also call each methods one by one."
   ]
  },
  {
   "cell_type": "code",
   "execution_count": null,
   "id": "c030ac9f",
   "metadata": {},
   "outputs": [],
   "source": [
    "grouped.sum()"
   ]
  },
  {
   "cell_type": "code",
   "execution_count": null,
   "id": "74d03433",
   "metadata": {},
   "outputs": [],
   "source": [
    "grouped.mean()"
   ]
  },
  {
   "cell_type": "code",
   "execution_count": null,
   "id": "b90ebd69",
   "metadata": {},
   "outputs": [],
   "source": [
    "grouped.min()"
   ]
  },
  {
   "cell_type": "code",
   "execution_count": null,
   "id": "87ea970a",
   "metadata": {},
   "outputs": [],
   "source": [
    "grouped.max()"
   ]
  },
  {
   "cell_type": "markdown",
   "id": "245037cb",
   "metadata": {},
   "source": [
    "### Custom Aggregations\n",
    "\n",
    "> Using aggregate() or agg() methods\n",
    "\n",
    "agg() takes as argument:\n",
    "\n",
    "- a function\n",
    "- a list of functions\n",
    "- a dict of functions\n",
    "\n",
    "\n",
    "Syntac:\n",
    "\n",
    "```python\n",
    "    grouped.aggregate(function)\n",
    "\n",
    "    OR\n",
    "\n",
    "    grouped.aggregate([function1, function2, function3])\n",
    "    \n",
    "    OR\n",
    "    \n",
    "    grouped.aggregate({column_1: function1, column_2: function2, column_3: function3})\n",
    "```\n",
    "\n",
    "\n",
    "[Official doc](https://pandas.pydata.org/pandas-docs/version/0.22/generated/pandas.core.groupby.DataFrameGroupBy.agg.html)"
   ]
  },
  {
   "cell_type": "markdown",
   "id": "7a768dd9",
   "metadata": {},
   "source": [
    "### Using functions from numpy package, we can replicate the preivous behaviour\n",
    "\n",
    "- np.sum\n",
    "- np.mean\n",
    "- np.std\n",
    "..."
   ]
  },
  {
   "cell_type": "code",
   "execution_count": null,
   "id": "e84f2de4",
   "metadata": {},
   "outputs": [],
   "source": [
    "import numpy as np"
   ]
  },
  {
   "cell_type": "code",
   "execution_count": null,
   "id": "63febb56",
   "metadata": {},
   "outputs": [],
   "source": [
    "grouped.agg(np.sum)"
   ]
  },
  {
   "cell_type": "code",
   "execution_count": null,
   "id": "fdd5a0e9",
   "metadata": {},
   "outputs": [],
   "source": [
    "grouped.aggregate(np.sum)"
   ]
  },
  {
   "cell_type": "markdown",
   "id": "b428134a",
   "metadata": {},
   "source": [
    "### We can apply several functions to the Groupby Object"
   ]
  },
  {
   "cell_type": "code",
   "execution_count": null,
   "id": "60b99bbc",
   "metadata": {},
   "outputs": [],
   "source": [
    "grouped.agg(['sum', 'min', 'max'])"
   ]
  },
  {
   "cell_type": "markdown",
   "id": "fdecea3c",
   "metadata": {},
   "source": [
    "⚠️ In that example, in doesn't make sense to apply all functions to all columns"
   ]
  },
  {
   "cell_type": "markdown",
   "id": "26614f45",
   "metadata": {},
   "source": [
    "### We can apply a different function per column"
   ]
  },
  {
   "cell_type": "code",
   "execution_count": null,
   "id": "3e53a314",
   "metadata": {},
   "outputs": [],
   "source": [
    "grouped.agg({'fullvisitorid': 'count', 'pageviews': 'sum'})"
   ]
  },
  {
   "cell_type": "markdown",
   "id": "bfb3d714",
   "metadata": {},
   "source": [
    "### We can apply several different functions per column"
   ]
  },
  {
   "cell_type": "code",
   "execution_count": null,
   "id": "48728baa",
   "metadata": {},
   "outputs": [],
   "source": [
    "grouped.agg({'fullvisitorid': ['count'], 'pageviews': ['sum', 'min', 'max']})"
   ]
  },
  {
   "cell_type": "markdown",
   "id": "345cf287",
   "metadata": {},
   "source": [
    "### We can apply custom functions"
   ]
  },
  {
   "cell_type": "markdown",
   "id": "27d18fe5",
   "metadata": {},
   "source": [
    "The function must follow some rules:\n",
    "    \n",
    "- Take a pd.Series as argument\n",
    "- Not modify the pd.Series it's applied to"
   ]
  },
  {
   "cell_type": "markdown",
   "id": "3924ab9f",
   "metadata": {},
   "source": [
    "**Example:**\n",
    "    \n",
    "We want to split the groups by category of average page views    "
   ]
  },
  {
   "cell_type": "code",
   "execution_count": null,
   "id": "af0778c7",
   "metadata": {},
   "outputs": [],
   "source": [
    "def categorize_avg_page_views(page_views_series):\n",
    "    \"\"\"\n",
    "    The function takes an Series object with the numbe of page views as argument\n",
    "    It return the category in which the average stands\n",
    "    Args:\n",
    "        page_views_series: \n",
    "\n",
    "    Returns:\n",
    "\n",
    "    \"\"\"\n",
    "    if np.mean(page_views_series) < 2:\n",
    "        return \"[0, 2]\"\n",
    "    elif np.mean(page_views_series) < 4:\n",
    "        return \"[2, 4]\"\n",
    "    elif np.mean(page_views_series) < 6:\n",
    "        return \"[4, 6]\"\n",
    "    else:\n",
    "        return \"[6, ++[\""
   ]
  },
  {
   "cell_type": "code",
   "execution_count": null,
   "id": "60e9e446",
   "metadata": {},
   "outputs": [],
   "source": [
    "grouped.aggregate(categorize_avg_page_views)"
   ]
  },
  {
   "cell_type": "markdown",
   "id": "f528ab43",
   "metadata": {},
   "source": [
    " ⚠️ We get a warning because the function is also applied to the column `date` of type string, which cannot be compared to an integer"
   ]
  },
  {
   "cell_type": "markdown",
   "id": "97aecb1f",
   "metadata": {},
   "source": [
    "**Exercice 1**\n",
    "\n",
    "Try to apply the function to the `date` column only\n",
    "What error do we get?\n",
    "\n"
   ]
  },
  {
   "cell_type": "code",
   "execution_count": null,
   "id": "3c68525c",
   "metadata": {},
   "outputs": [],
   "source": [
    "## Type your answer here\n",
    "# {\"date\": [categorize_avg_page_views]}\n",
    "\n",
    "\n",
    "grouped.aggregate({\"pageviews\": [categorize_avg_page_views, np.sum]})"
   ]
  },
  {
   "cell_type": "markdown",
   "id": "7348932d",
   "metadata": {},
   "source": [
    "**Exercice 2**\n",
    "\n",
    "Our function applies only to the pageviews.\n",
    "\n",
    "1. Write the command to run the aggregation `categorize_avg_page_views`\n",
    "2. Add the aggregation `mean`to the same column "
   ]
  },
  {
   "cell_type": "markdown",
   "id": "50ce3d85",
   "metadata": {},
   "source": [
    "## Type your answer here"
   ]
  },
  {
   "cell_type": "markdown",
   "id": "33abebe1",
   "metadata": {},
   "source": [
    "## 2.2 Transformation "
   ]
  },
  {
   "cell_type": "markdown",
   "id": "f1c60984",
   "metadata": {},
   "source": [
    "The transform method returns an object that has the **same size** as the one being grouped. "
   ]
  },
  {
   "cell_type": "markdown",
   "id": "ca2b6996",
   "metadata": {},
   "source": [
    "The transform function must:\n",
    "\n",
    "    - Return a result that is the same size as the group chunk\n",
    "    - Operate column-by-column on the group chunk\n",
    "    - Do not perform modify the group chunk. "
   ]
  },
  {
   "cell_type": "markdown",
   "id": "8aa091d4",
   "metadata": {},
   "source": [
    "**Example**\n",
    "\n",
    "We want to count the number of element in each group. And having the result for each row"
   ]
  },
  {
   "cell_type": "code",
   "execution_count": null,
   "id": "37508fbb",
   "metadata": {},
   "outputs": [],
   "source": [
    "transformed = grouped.date.transform('count')"
   ]
  },
  {
   "cell_type": "code",
   "execution_count": null,
   "id": "054bda0c",
   "metadata": {},
   "outputs": [],
   "source": [
    "print(type(transformed))\n",
    "print(transformed)"
   ]
  },
  {
   "cell_type": "markdown",
   "id": "fad26b75",
   "metadata": {},
   "source": [
    "**Output of a transform operation**\n",
    "\n",
    "- The result is a pandas.Series\n",
    "\n",
    "- It has the same number of rows as the initial datafram\n",
    "\n",
    "- As a result, we can use it as a new column of df\n"
   ]
  },
  {
   "cell_type": "code",
   "execution_count": null,
   "id": "21f8e3c4",
   "metadata": {},
   "outputs": [],
   "source": [
    "df[\"count_per_channel_grouping\"] = grouped.date.transform('count')"
   ]
  },
  {
   "cell_type": "code",
   "execution_count": null,
   "id": "b1528d2f",
   "metadata": {},
   "outputs": [],
   "source": [
    "df.head()\n",
    "# We have a new column count_per_channel_grouping"
   ]
  },
  {
   "cell_type": "markdown",
   "id": "c288baf6",
   "metadata": {},
   "source": [
    "## 2.3 Filtration "
   ]
  },
  {
   "cell_type": "markdown",
   "id": "21e54568",
   "metadata": {},
   "source": [
    "The filter method returns a **subset** of the original dataframe"
   ]
  },
  {
   "cell_type": "markdown",
   "id": "dc408a51",
   "metadata": {},
   "source": [
    "The argument of filter must be a **function**:\n",
    "\n",
    "    - applied to the group as a whole\n",
    "    - that returns True or False\n",
    "\n"
   ]
  },
  {
   "cell_type": "markdown",
   "id": "5a4e2cfa",
   "metadata": {},
   "source": [
    "**Example**\n",
    "\n",
    "We want to filter out groups that have less than 10 non Null pageviews elements"
   ]
  },
  {
   "cell_type": "code",
   "execution_count": null,
   "id": "02d2e681",
   "metadata": {},
   "outputs": [],
   "source": [
    "def filter_less_than_10(group):\n",
    "    return len(group) >= 10"
   ]
  },
  {
   "cell_type": "code",
   "execution_count": null,
   "id": "e525f877",
   "metadata": {},
   "outputs": [],
   "source": [
    "filtered_df = grouped.filter(filter_less_than_10)\n",
    "filtered_df"
   ]
  },
  {
   "cell_type": "markdown",
   "id": "9711c3d9",
   "metadata": {},
   "source": [
    "**Compare the number of rows between the initial df and the filtered df**"
   ]
  },
  {
   "cell_type": "code",
   "execution_count": null,
   "id": "500345eb",
   "metadata": {},
   "outputs": [],
   "source": [
    "# Type the answer here\n",
    "len(df) - len(filtered_df)"
   ]
  },
  {
   "cell_type": "markdown",
   "id": "634c522b",
   "metadata": {},
   "source": [
    "**Exercice**\n",
    "\n",
    "Filter the `channel_grouping` groups to keep only the ones that have on average more than 2 pageviews"
   ]
  },
  {
   "cell_type": "code",
   "execution_count": null,
   "id": "a44dff14",
   "metadata": {},
   "outputs": [],
   "source": [
    "# Type the answer here\n"
   ]
  },
  {
   "cell_type": "markdown",
   "id": "1edc5797",
   "metadata": {},
   "source": [
    "----"
   ]
  },
  {
   "cell_type": "markdown",
   "id": "38b074a4",
   "metadata": {},
   "source": [
    "# <center>  RECAP"
   ]
  },
  {
   "cell_type": "markdown",
   "id": "319e0613",
   "metadata": {},
   "source": [
    "    \n",
    "\n",
    "\n",
    "> We can split a dataframe per group using the methods groupby\n",
    "\n",
    "**It creates an object pd.GroupBy**\n",
    "\n",
    "\n",
    "> We can aggregate, transform or filter this GroupBy object\n",
    "\n",
    "- **aggregate** produces a dataframe which size is the number or groups\n",
    "\n",
    "- **transform** produces a dataframe of the same size\n",
    "    \n",
    "- **filter** produces a subset of the initial dataframe"
   ]
  },
  {
   "cell_type": "markdown",
   "id": "79db5e3c",
   "metadata": {},
   "source": [
    "![split_apply_combine](resources/split_apply_combine.png)"
   ]
  },
  {
   "cell_type": "code",
   "execution_count": null,
   "id": "06fc0fa4",
   "metadata": {},
   "outputs": [],
   "source": []
  }
 ],
 "metadata": {
  "kernelspec": {
   "display_name": "jupyter-gsl",
   "language": "python",
   "name": "jupyter-gsl"
  },
  "language_info": {
   "codemirror_mode": {
    "name": "ipython",
    "version": 3
   },
   "file_extension": ".py",
   "mimetype": "text/x-python",
   "name": "python",
   "nbconvert_exporter": "python",
   "pygments_lexer": "ipython3",
   "version": "3.9.10"
  }
 },
 "nbformat": 4,
 "nbformat_minor": 5
}
