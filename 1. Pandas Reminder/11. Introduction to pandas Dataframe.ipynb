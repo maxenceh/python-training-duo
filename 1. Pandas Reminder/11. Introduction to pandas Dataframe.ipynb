{
 "cells": [
  {
   "cell_type": "markdown",
   "id": "190809a3",
   "metadata": {},
   "source": [
    "# <center> Introduction to Pandas"
   ]
  },
  {
   "cell_type": "code",
   "execution_count": null,
   "id": "f0718e53",
   "metadata": {},
   "outputs": [],
   "source": []
  },
  {
   "cell_type": "markdown",
   "id": "129579cb",
   "metadata": {},
   "source": [
    "> Pandas is a Python library used for working with data sets.\n",
    "\n",
    "It is used for:\n",
    "- analyzing\n",
    "- cleaning\n",
    "- exploring\n",
    "- manipulating data.\n",
    "\n",
    "\"Pandas\" comes from \"Python Data Analysis\" \n",
    "\n",
    "It was created by **Wes McKinney** in 2008"
   ]
  },
  {
   "cell_type": "markdown",
   "id": "04d5ff8f",
   "metadata": {},
   "source": [
    "Pandas is built on top of the **NumPy** package, meaning a lot of the structure of NumPy is used or replicated in Pandas."
   ]
  },
  {
   "cell_type": "markdown",
   "id": "03797b86",
   "metadata": {},
   "source": [
    "### What is Numpy???"
   ]
  },
  {
   "cell_type": "markdown",
   "id": "db2d7009",
   "metadata": {},
   "source": [
    "![question](resources/questions_dog.gif)"
   ]
  },
  {
   "cell_type": "markdown",
   "id": "3502d996",
   "metadata": {},
   "source": [
    "**In short:**\n",
    "\n",
    "> Numpy is a package built to make Python numeric computations faster.\n",
    "\n",
    "> It introduces a new data structure: array and ndarray \n",
    "\n",
    "> A numpy array is a grid of values, all of the same type, and is indexed by a tuple of nonnegative integers\n",
    "\n",
    "> An array is equivalent to a list, but has several advantages in terms of performance:\n",
    "\n",
    "- **Size** - Numpy data structures take up less space\n",
    "- **Performance** - Numpy data structures are faster than lists\n",
    "- **Functionality** - NumPy have optimized functions such as linear algebra operations built in."
   ]
  },
  {
   "cell_type": "markdown",
   "id": "f478814d",
   "metadata": {},
   "source": [
    "### Back to pandas"
   ]
  },
  {
   "cell_type": "markdown",
   "id": "d835a28b",
   "metadata": {},
   "source": [
    "Pandas introduces 2 main data structures:\n",
    "    \n",
    "> pandas.Series\n",
    "\n",
    "> pandas.Dataframe"
   ]
  },
  {
   "cell_type": "markdown",
   "id": "3eb850f2",
   "metadata": {},
   "source": [
    "![question](resources/series_dataframes.png)"
   ]
  },
  {
   "cell_type": "markdown",
   "id": "7e01b107",
   "metadata": {},
   "source": [
    "**pandas.Series:**\n",
    "    \n",
    "A Pandas Series is a one-dimensional array holding data of any type.\n",
    "\n",
    "It is like a column in a table."
   ]
  },
  {
   "cell_type": "markdown",
   "id": "6da667ef",
   "metadata": {},
   "source": [
    "**pandas.Dataframe:**\n",
    "\n",
    "A Pandas DataFrame is a 2 dimensional data structure\n",
    "\n",
    "It is like a table with rows and columns.\n",
    "\n"
   ]
  },
  {
   "cell_type": "markdown",
   "id": "f2c2d455",
   "metadata": {},
   "source": [
    "# Pandas Dataframe Hands-On"
   ]
  },
  {
   "cell_type": "markdown",
   "id": "8fc35700",
   "metadata": {},
   "source": [
    "## How to create a Dataframe"
   ]
  },
  {
   "cell_type": "markdown",
   "id": "5544df4b",
   "metadata": {},
   "source": [
    "### 1. From a Dict"
   ]
  },
  {
   "cell_type": "code",
   "execution_count": null,
   "id": "cdbecdfe",
   "metadata": {},
   "outputs": [],
   "source": [
    "# We need to import pandas once\n",
    "import pandas as pd"
   ]
  },
  {
   "cell_type": "code",
   "execution_count": null,
   "id": "7e01b02f",
   "metadata": {},
   "outputs": [],
   "source": [
    "data = {\n",
    "  \"name\": ['Jane', 'Bill', 'John'],\n",
    "  \"age\": [50, 40, 45]\n",
    "}\n",
    "\n",
    "# load data into a DataFrame\n",
    "df = pd.DataFrame(data)\n",
    "\n",
    "df"
   ]
  },
  {
   "cell_type": "markdown",
   "id": "8000d0e2",
   "metadata": {},
   "source": [
    "### 2. From a List"
   ]
  },
  {
   "cell_type": "code",
   "execution_count": null,
   "id": "40ac4c4f",
   "metadata": {},
   "outputs": [],
   "source": [
    "data_list = [[1, 2, 3, 4],\n",
    "             [5, 6, 7, 8],\n",
    "             [9, 10, 11, 12],\n",
    "             [13, 14, 15, 16],\n",
    "             [17, 18, 19, 20]]\n",
    "\n",
    "df = pd.DataFrame(data_list, columns=[\"col1\", \"col2\", \"col3\", \"col4\"])\n",
    "df"
   ]
  },
  {
   "cell_type": "markdown",
   "id": "10b7da6b",
   "metadata": {},
   "source": [
    "### 3. From a csv file"
   ]
  },
  {
   "cell_type": "code",
   "execution_count": null,
   "id": "e6d22691",
   "metadata": {},
   "outputs": [],
   "source": [
    "df = pd.read_csv('./resources/data.csv')\n",
    "\n",
    "df"
   ]
  },
  {
   "cell_type": "markdown",
   "id": "fa88ff0e",
   "metadata": {},
   "source": [
    "### 4. From a json file"
   ]
  },
  {
   "cell_type": "code",
   "execution_count": null,
   "id": "2c4608de",
   "metadata": {},
   "outputs": [],
   "source": [
    "df = pd.read_json('./resources/data.json')\n",
    "\n",
    "df"
   ]
  },
  {
   "cell_type": "markdown",
   "id": "d40bf9d0",
   "metadata": {},
   "source": [
    "### 5. From a SQL table"
   ]
  },
  {
   "cell_type": "markdown",
   "id": "021bb833",
   "metadata": {},
   "source": [
    "```python\n",
    "db_connection = connect_db(url, user, password)\n",
    "\n",
    "df = pd.read_sql_query(\"SELECT * FROM table\", db_connection)\n",
    "\n",
    "```"
   ]
  },
  {
   "cell_type": "markdown",
   "id": "330cd9ba",
   "metadata": {},
   "source": [
    "## Get informations about a Dataframe"
   ]
  },
  {
   "cell_type": "code",
   "execution_count": null,
   "id": "b33c1472",
   "metadata": {},
   "outputs": [],
   "source": [
    "data = {\n",
    "  \"name\": ['Jane', 'Bill', 'John'],\n",
    "  \"age\": [50, 40, 45]\n",
    "}\n",
    "\n",
    "# load data into a DataFrame\n",
    "df = pd.DataFrame(data)"
   ]
  },
  {
   "cell_type": "markdown",
   "id": "7e493fc6",
   "metadata": {},
   "source": [
    "### Dataframe columns"
   ]
  },
  {
   "cell_type": "code",
   "execution_count": null,
   "id": "3a6b556f",
   "metadata": {},
   "outputs": [],
   "source": [
    "df.columns"
   ]
  },
  {
   "cell_type": "markdown",
   "id": "59d851f7",
   "metadata": {},
   "source": [
    "### The data types of its Dataframe\n",
    "\n",
    "All elements of a column have the same data type\n"
   ]
  },
  {
   "cell_type": "code",
   "execution_count": null,
   "id": "0c80f7c1",
   "metadata": {},
   "outputs": [],
   "source": [
    "df.dtypes"
   ]
  },
  {
   "cell_type": "markdown",
   "id": "f76bdb17",
   "metadata": {},
   "source": [
    "### Get only one colum of the Dataframe\n",
    "\n",
    "The output is a Serie of a given data type\n"
   ]
  },
  {
   "cell_type": "code",
   "execution_count": null,
   "id": "5efdf6c7",
   "metadata": {},
   "outputs": [],
   "source": [
    "name_col = df.name\n",
    "name_col"
   ]
  },
  {
   "cell_type": "code",
   "execution_count": null,
   "id": "1759acfc",
   "metadata": {},
   "outputs": [],
   "source": [
    "# The type of name_col  is pd.Series\n",
    "print(type(name_col))\n",
    "\n",
    "# The type of the element of name_col is object (which means string)\n",
    "print(name_col.dtype)"
   ]
  },
  {
   "cell_type": "markdown",
   "id": "05e86360",
   "metadata": {},
   "source": [
    "### Get meta information about the dataframe"
   ]
  },
  {
   "cell_type": "code",
   "execution_count": null,
   "id": "971fe050",
   "metadata": {},
   "outputs": [],
   "source": [
    "df.info()"
   ]
  },
  {
   "cell_type": "markdown",
   "id": "915d5eb8",
   "metadata": {},
   "source": [
    "### Get the number of rows and columns"
   ]
  },
  {
   "cell_type": "code",
   "execution_count": null,
   "id": "ce0fdb7d",
   "metadata": {},
   "outputs": [],
   "source": [
    "df.shape"
   ]
  },
  {
   "cell_type": "code",
   "execution_count": null,
   "id": "bc405525",
   "metadata": {},
   "outputs": [],
   "source": [
    "number_of_rows = df.shape[0]\n",
    "number_of_cols = df.shape[1]"
   ]
  },
  {
   "cell_type": "markdown",
   "id": "914f0713",
   "metadata": {},
   "source": [
    "### Get statistics about the dataframe"
   ]
  },
  {
   "cell_type": "code",
   "execution_count": null,
   "id": "8de1ae34",
   "metadata": {},
   "outputs": [],
   "source": [
    "df.describe() # COMPUTE THE STATS FOR NUMERIC COLUMNS ONLY"
   ]
  },
  {
   "cell_type": "code",
   "execution_count": null,
   "id": "f4c4ad92",
   "metadata": {},
   "outputs": [],
   "source": [
    "# We can also compute some specific stats fora given column\n",
    "print(df.age.mean())\n",
    "print(df.age.count())\n",
    "print(df.age.std())\n",
    "print(df.age.min())\n",
    "print(df.age.quantile(0.25)) \n",
    "print(df.age.quantile(0.5))\n",
    "print(df.age.quantile(0.75))\n",
    "print(df.age.max())"
   ]
  },
  {
   "cell_type": "markdown",
   "id": "da53cadb",
   "metadata": {},
   "source": [
    "### Display first or last rows"
   ]
  },
  {
   "cell_type": "code",
   "execution_count": null,
   "id": "8f2fa5cc",
   "metadata": {},
   "outputs": [],
   "source": [
    "df.head(2)   # Displays first n rows, defualt is 5"
   ]
  },
  {
   "cell_type": "code",
   "execution_count": null,
   "id": "91e001b0",
   "metadata": {},
   "outputs": [],
   "source": [
    "df.tail(2)   # Displays last n rows, defualt is 5"
   ]
  },
  {
   "cell_type": "markdown",
   "id": "4b66a10b",
   "metadata": {},
   "source": [
    "### Get a column's unique values"
   ]
  },
  {
   "cell_type": "code",
   "execution_count": null,
   "id": "e1164656",
   "metadata": {},
   "outputs": [],
   "source": [
    "data_dup = {\n",
    "  \"name\": ['Jane', 'Bill', 'John', 'Jane'],\n",
    "  \"age\": [50, 40, 40, 30]\n",
    "}\n",
    "\n",
    "# load data into a DataFrame\n",
    "df_with_duplicates = pd.DataFrame(data_dup)\n",
    "\n",
    "df_with_duplicates"
   ]
  },
  {
   "cell_type": "code",
   "execution_count": null,
   "id": "d59f06b4",
   "metadata": {},
   "outputs": [],
   "source": [
    "df_with_duplicates.age.unique()"
   ]
  },
  {
   "cell_type": "code",
   "execution_count": null,
   "id": "7693a83e",
   "metadata": {},
   "outputs": [],
   "source": [
    "df_with_duplicates.name.unique()"
   ]
  },
  {
   "cell_type": "markdown",
   "id": "23532998",
   "metadata": {},
   "source": [
    "### Sort the dataframe by a column's value"
   ]
  },
  {
   "cell_type": "code",
   "execution_count": null,
   "id": "d52be107",
   "metadata": {},
   "outputs": [],
   "source": [
    "df.sort_values(by=\"age\")"
   ]
  },
  {
   "cell_type": "code",
   "execution_count": null,
   "id": "bf87a56e",
   "metadata": {},
   "outputs": [],
   "source": [
    "df.sort_values(by=\"name\")"
   ]
  },
  {
   "cell_type": "markdown",
   "id": "c8c1c92a",
   "metadata": {},
   "source": [
    "### Transpose the dataframe"
   ]
  },
  {
   "cell_type": "code",
   "execution_count": null,
   "id": "0f8aec0f",
   "metadata": {},
   "outputs": [],
   "source": [
    "df.T"
   ]
  },
  {
   "cell_type": "markdown",
   "id": "1af7ecb7",
   "metadata": {},
   "source": [
    "## Your turn to play"
   ]
  },
  {
   "cell_type": "markdown",
   "id": "d980cc69",
   "metadata": {},
   "source": [
    "![your_turn](resources/your_turn.gif)"
   ]
  },
  {
   "cell_type": "markdown",
   "id": "f7a12d0a",
   "metadata": {},
   "source": [
    "### Exercice:\n",
    "\n",
    "- Create a dataframe from the file stored in **./resources/users.csv**\n",
    "- Display the first 5 rows\n",
    "- Show the data type of each columns\n",
    "- Show the size (number of rows)\n",
    "- Give some statistics about the numeric columns\n",
    "- Give some statistics about the numeric columns\n",
    "- Explore..."
   ]
  },
  {
   "cell_type": "code",
   "execution_count": null,
   "id": "ae37c78d",
   "metadata": {},
   "outputs": [],
   "source": [
    "import pandas as pd\n",
    "df = pd.read_csv('./resources/users.csv')\n",
    "df.head()"
   ]
  },
  {
   "cell_type": "code",
   "execution_count": null,
   "id": "f768f6b0",
   "metadata": {},
   "outputs": [],
   "source": []
  }
 ],
 "metadata": {
  "kernelspec": {
   "display_name": "jupyter-gsl",
   "language": "python",
   "name": "jupyter-gsl"
  },
  "language_info": {
   "codemirror_mode": {
    "name": "ipython",
    "version": 3
   },
   "file_extension": ".py",
   "mimetype": "text/x-python",
   "name": "python",
   "nbconvert_exporter": "python",
   "pygments_lexer": "ipython3",
   "version": "3.9.10"
  }
 },
 "nbformat": 4,
 "nbformat_minor": 5
}
