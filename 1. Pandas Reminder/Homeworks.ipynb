{
 "cells": [
  {
   "cell_type": "code",
   "execution_count": 2,
   "id": "bfb3d78a",
   "metadata": {},
   "outputs": [],
   "source": [
    "import pandas as pd"
   ]
  },
  {
   "cell_type": "code",
   "execution_count": 5,
   "id": "c9d03724",
   "metadata": {},
   "outputs": [],
   "source": [
    "df = pd.read_csv('Resources/data_concat.csv')"
   ]
  },
  {
   "cell_type": "markdown",
   "id": "45f2b32c",
   "metadata": {},
   "source": [
    "1. Créer une fonction generate_full_name, qui crée le nom complet a partir du first_name et last_name\n",
    "\n",
    "**Résultat attendu:**\n",
    "```\n",
    "generate_full_name(\"John\", \"Doe\") = \"John Doe\"\n",
    "```\n",
    "\n",
    "2. En utilisant un apply, créer une nouvelle colonne fullname dans le dataframe\n",
    "\n",
    "3. Supprimer les colonnes firstname et lastname"
   ]
  },
  {
   "cell_type": "code",
   "execution_count": 7,
   "id": "e9c8a3fd",
   "metadata": {},
   "outputs": [],
   "source": [
    "# A vous de jouer"
   ]
  },
  {
   "cell_type": "markdown",
   "id": "e4284e61",
   "metadata": {},
   "source": [
    "4. Créer une fonction qui crée uyne date \"YYYY-MM-DD\" a partir d'un jour, d'un mois, d'une année.\n",
    "\n",
    "5. En utilisant un apply, créer une nouvelle colonne `date` dans le dataframe\n"
   ]
  },
  {
   "cell_type": "code",
   "execution_count": null,
   "id": "9183a3a1",
   "metadata": {},
   "outputs": [],
   "source": []
  }
 ],
 "metadata": {
  "kernelspec": {
   "display_name": "jupyter-gsl",
   "language": "python",
   "name": "jupyter-gsl"
  },
  "language_info": {
   "codemirror_mode": {
    "name": "ipython",
    "version": 3
   },
   "file_extension": ".py",
   "mimetype": "text/x-python",
   "name": "python",
   "nbconvert_exporter": "python",
   "pygments_lexer": "ipython3",
   "version": "3.9.10"
  }
 },
 "nbformat": 4,
 "nbformat_minor": 5
}
