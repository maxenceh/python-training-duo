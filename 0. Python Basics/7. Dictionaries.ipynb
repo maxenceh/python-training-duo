{
 "cells": [
  {
   "cell_type": "markdown",
   "id": "faca1492",
   "metadata": {},
   "source": [
    "# <center> Dictionaries - A new Data Structure"
   ]
  },
  {
   "cell_type": "markdown",
   "id": "0a72dbfc",
   "metadata": {},
   "source": [
    "## Dictionary is an unordered collection of key-value pairs\n",
    "\n"
   ]
  },
  {
   "cell_type": "markdown",
   "id": "c51e116d",
   "metadata": {},
   "source": [
    "**Each entry has a key and value.**"
   ]
  },
  {
   "cell_type": "markdown",
   "id": "c1862244",
   "metadata": {},
   "source": [
    "**Each key is separated from its value by a colon (:)**\n",
    "\n",
    "**The items are separated by commas, and the whole dict is enclosed in curly braces**\n",
    "\n",
    "Example : \n",
    "\n",
    "```python\n",
    "dict_1 = {'key_1': 'AAA', 'key_2': 'BBB',}\n",
    "```\n"
   ]
  },
  {
   "cell_type": "markdown",
   "id": "4f95f9bd",
   "metadata": {},
   "source": [
    "**An empty dictionary without any items is written with just two curly braces {}**\n",
    "\n",
    "Example : \n",
    "\n",
    "```python\n",
    "empty_dict = {}\n",
    "```\n",
    "\n"
   ]
  },
  {
   "cell_type": "markdown",
   "id": "f34f712a",
   "metadata": {},
   "source": [
    "**The keys must be unique and immutable.**\n",
    "\n",
    "- So we can use strings, numbers (int or float), or tuples as keys. Values can be of any type.\n",
    "\n",
    "**The values may not be unique, can be of any type**"
   ]
  },
  {
   "cell_type": "markdown",
   "id": "4e567c4f",
   "metadata": {},
   "source": [
    "\n",
    "Examples : \n",
    "\n",
    "```python\n",
    "        valid_dict = {'key_1': 'AAA', 'key_2': 'BBB',}\n",
    "    \n",
    "    \n",
    "```\n",
    "\n",
    "\n",
    "- We **CANNOT** define 2 items with the same **key** in a dictionnary\n",
    "\n",
    "```python\n",
    "        duplicated_keys_dict = {'key_1': 'AAA', 'key_1': 'BBB',}\n",
    "        # result: {'key_1': 'BBB'}\n",
    "        # Only the last key:value pair is kept\n",
    "        \n",
    "        \n",
    "```\n",
    "\n",
    "- We **CAN** define 2 items with the same **value** in a dictionnary\n",
    "\n",
    "```python\n",
    "        duplicated_values_dict = {'key_1': 'AAA', 'key_2': 'AAA',}\n",
    "        # result: {'key_1': 'AAA', 'key_2': 'AAA'}\n",
    "        # Both key:value pairs are kept\n",
    "        \n",
    "        \n",
    "```\n",
    "\n",
    "\n",
    "\n",
    "- We **CANNOT** use a **LIST** as **key** in a dictionnary\n",
    "\n",
    "```python\n",
    "key_list = ['el1', 'el2']\n",
    "key_list_dict = {key_list: 'AAA', 'key_2': 'BBB',}\n",
    "\n",
    "---------------------------------------------------------------------------\n",
    "TypeError: unhashable type: 'list'\n",
    "---------------------------------------------------------------------------\n",
    "\n",
    "\n",
    "\n",
    "```\n",
    "\n",
    "\n",
    "\n",
    "- We **CAN** use a **TUPLE** as **key** in a dictionnary\n",
    "\n",
    "```python\n",
    "key_tuple = ('el1', 'el2')\n",
    "key_list_dict = {key_tuple: 'AAA', 'key_2': 'BBB',}\n",
    "\n",
    "\n",
    "\n",
    "```\n",
    "\n",
    "\n",
    "\n",
    "- We **CAN** use a **ANY DATE TYPE** as **value** in a dictionnary\n",
    "\n",
    "\n",
    "```python\n",
    "complex_dict = {'key_1': \n",
    "                     {'key_1': 'AAAAA',\n",
    "                           'key_3': {'key_1': ['el1', 'el2'],\n",
    "                                     'key_2': 'AAA', \n",
    "                                     }, \n",
    "                           }, \n",
    "                 }\n",
    "\n",
    "```"
   ]
  },
  {
   "cell_type": "markdown",
   "id": "00dfb16a",
   "metadata": {},
   "source": [
    "## Accessing Items in Dictionary"
   ]
  },
  {
   "cell_type": "markdown",
   "id": "956d642a",
   "metadata": {},
   "source": [
    "You can access the items of a dictionary by referring to its key name, inside square brackets\n"
   ]
  },
  {
   "cell_type": "code",
   "execution_count": null,
   "id": "defff3ea",
   "metadata": {},
   "outputs": [],
   "source": [
    "valid_dict = {'key_1': 'AAA', 'key_2': 'BBB',}\n",
    "    \n",
    "valid_dict[\"key_1\"]"
   ]
  },
  {
   "cell_type": "markdown",
   "id": "48f04c07",
   "metadata": {},
   "source": [
    "If the key you refer to is not in the dictionary, it raises an exception."
   ]
  },
  {
   "cell_type": "code",
   "execution_count": null,
   "id": "d487e71b",
   "metadata": {},
   "outputs": [],
   "source": [
    "valid_dict[\"key_3\"]"
   ]
  },
  {
   "cell_type": "markdown",
   "id": "f040d52e",
   "metadata": {},
   "source": [
    "Antother option to access an item is to use ```dict.get('key_name')``` \n"
   ]
  },
  {
   "cell_type": "code",
   "execution_count": null,
   "id": "20156ea7",
   "metadata": {},
   "outputs": [],
   "source": [
    "valid_dict.get(\"key_1\")"
   ]
  },
  {
   "cell_type": "markdown",
   "id": "40c4ee47",
   "metadata": {},
   "source": [
    "Using .get() will return None if the key does not exist instead of raising an exception"
   ]
  },
  {
   "cell_type": "code",
   "execution_count": null,
   "id": "2e82811a",
   "metadata": {},
   "outputs": [],
   "source": [
    "res = valid_dict.get(\"key_3\")\n",
    "print(res)"
   ]
  },
  {
   "cell_type": "markdown",
   "id": "7bb57348",
   "metadata": {},
   "source": [
    "We can add a default value to the .get() method.\n",
    "\n",
    "If the key doesn't exist, it will return the default value instead of None"
   ]
  },
  {
   "cell_type": "code",
   "execution_count": null,
   "id": "7196bbdd",
   "metadata": {},
   "outputs": [],
   "source": [
    "valid_dict.get(\"key_3\", \"my_default_value\")"
   ]
  },
  {
   "cell_type": "markdown",
   "id": "099ba0e3",
   "metadata": {},
   "source": [
    "### Recap\n",
    "**Several methodes to access items in the dictionary:**\n",
    "\n",
    "   - dict[\"key_name\"]\n",
    "   - dict.get(\"key_name\")\n",
    "   - dict.get(\"key_name\", \"default_value\")"
   ]
  },
  {
   "cell_type": "markdown",
   "id": "2f2dff6c",
   "metadata": {},
   "source": [
    "## Accessing all items of a dictionnary\n",
    "\n"
   ]
  },
  {
   "cell_type": "code",
   "execution_count": null,
   "id": "2280dddd",
   "metadata": {},
   "outputs": [],
   "source": [
    "valid_dict = {'key_1': 'AAA', 'key_2': 'BBB',}"
   ]
  },
  {
   "cell_type": "markdown",
   "id": "8268aee6",
   "metadata": {},
   "source": [
    "1. Accessing all keys with dict.keys()"
   ]
  },
  {
   "cell_type": "code",
   "execution_count": null,
   "id": "0d3e2e42",
   "metadata": {},
   "outputs": [],
   "source": [
    "valid_dict.keys()"
   ]
  },
  {
   "cell_type": "markdown",
   "id": "6c00d8be",
   "metadata": {},
   "source": [
    "2. Accessing all keys with dict.values()"
   ]
  },
  {
   "cell_type": "code",
   "execution_count": null,
   "id": "c4b11741",
   "metadata": {},
   "outputs": [],
   "source": [
    "valid_dict.values()"
   ]
  },
  {
   "cell_type": "markdown",
   "id": "5f8c3ce5",
   "metadata": {},
   "source": [
    "3. Accessing all key:value pairs with dict.items()\n",
    "\n",
    "This methods returns key-value pairs in tuples"
   ]
  },
  {
   "cell_type": "code",
   "execution_count": null,
   "id": "8e221b7e",
   "metadata": {},
   "outputs": [],
   "source": [
    "valid_dict.items()"
   ]
  },
  {
   "cell_type": "markdown",
   "id": "aeb62465",
   "metadata": {},
   "source": [
    "### Usage\n",
    "\n",
    "The three methods above are useful to **iterate over a dictionnary**."
   ]
  },
  {
   "cell_type": "code",
   "execution_count": null,
   "id": "e6a4cc1d",
   "metadata": {},
   "outputs": [],
   "source": [
    "for key in valid_dict.keys():\n",
    "    print(key)\n",
    "    print(valid_dict[key])"
   ]
  },
  {
   "cell_type": "code",
   "execution_count": null,
   "id": "068d1b0a",
   "metadata": {},
   "outputs": [],
   "source": [
    "for key, value in valid_dict.items():\n",
    "    print(key)\n",
    "    print(value)"
   ]
  },
  {
   "cell_type": "markdown",
   "id": "d743842f",
   "metadata": {},
   "source": [
    "## Adding or Updating Items in Dictionary"
   ]
  },
  {
   "cell_type": "markdown",
   "id": "8441b701",
   "metadata": {},
   "source": [
    "Dictionaries are **mutable**.\n",
    "\n",
    "This means we can update, add or delete items"
   ]
  },
  {
   "cell_type": "markdown",
   "id": "13bd444d",
   "metadata": {},
   "source": [
    "To update or add an item we use the syntax:\n",
    "    \n",
    "    \n",
    "```python\n",
    "    dict[key_name] = value\n",
    "```\n",
    "\n",
    "- If the key already exist, the value is updated\n",
    "- If the key does not exist, a new key:value is created"
   ]
  },
  {
   "cell_type": "markdown",
   "id": "9bed0ebc",
   "metadata": {},
   "source": [
    "### Example: Adding an item"
   ]
  },
  {
   "cell_type": "code",
   "execution_count": null,
   "id": "dfcb8b91",
   "metadata": {},
   "outputs": [],
   "source": [
    "valid_dict = {'key_1': 'AAA', 'key_2': 'BBB'}\n",
    "\n",
    "valid_dict[\"key_3\"] = \"CCC\"\n",
    "valid_dict"
   ]
  },
  {
   "cell_type": "code",
   "execution_count": null,
   "id": "7ada082e",
   "metadata": {},
   "outputs": [],
   "source": [
    "valid_dict[\"key_1\"] = \"DDD\"\n",
    "valid_dict"
   ]
  },
  {
   "cell_type": "markdown",
   "id": "845ca300",
   "metadata": {},
   "source": [
    "### Exercise: Create and update a dict\n",
    "\n",
    "1. Create a dictionnary with the following data:\n",
    "    \n",
    "    - As key the name of each Student of the class\n",
    "    - As value the city of birth\n",
    "\n",
    "\n",
    "2. Add news items in the dictionary with information about your trainers:\n",
    "    - Andy was born in Rueil-Malmaison\n",
    "    - Maxence was born in Armentieres\n",
    "\n",
    "\n",
    "3. Sorry I made a mistake, Andy was born in Paris, can you fix that?\n",
    "    "
   ]
  },
  {
   "cell_type": "markdown",
   "id": "4527655a",
   "metadata": {},
   "source": [
    "## Updating with a new dictionary\n"
   ]
  },
  {
   "cell_type": "markdown",
   "id": "e70f7388",
   "metadata": {},
   "source": [
    "We can update the items using another dictionary using the dict_1.update(dict_2) method.\n",
    "\n",
    "\n",
    "This method will:\n",
    "\n",
    "\n",
    "- Update the keys existing in both dicts\n",
    "- Create keys that exists in dict_2 and not in dict_1\n",
    "- Do nothing with keys that exists in dict_1 and not in dict_2\n",
    "\n",
    "\n",
    "⚠️⚠️**The methods does not return a new dictionary, but it updates the existing one.**⚠️⚠️"
   ]
  },
  {
   "cell_type": "markdown",
   "id": "a7119f54",
   "metadata": {},
   "source": [
    "### Example:"
   ]
  },
  {
   "cell_type": "code",
   "execution_count": null,
   "id": "4d3118cc",
   "metadata": {},
   "outputs": [],
   "source": [
    "dict_1 = {'key_1': 'AAA', 'key_2': 'BBB'}\n",
    "dict_new = {'key_1': 'DDD', 'key_3': 'CCC'}"
   ]
  },
  {
   "cell_type": "code",
   "execution_count": null,
   "id": "c5b118aa",
   "metadata": {},
   "outputs": [],
   "source": [
    "dict_1.update(dict_new)"
   ]
  },
  {
   "cell_type": "code",
   "execution_count": null,
   "id": "b31599d3",
   "metadata": {},
   "outputs": [],
   "source": [
    "dict_1\n"
   ]
  },
  {
   "cell_type": "markdown",
   "id": "843ba937",
   "metadata": {},
   "source": [
    "## Delete Dictionary Elements\n"
   ]
  },
  {
   "cell_type": "markdown",
   "id": "11280eb5",
   "metadata": {},
   "source": [
    "We can delete a dictionnary item using:\n",
    "\n",
    "- ```del(dict[\"key_name\"])``` function\n",
    "\n",
    "\n",
    "\n",
    "- ```dict.pop(\"key_name\")``` method"
   ]
  },
  {
   "cell_type": "markdown",
   "id": "17f81a47",
   "metadata": {},
   "source": [
    "### Example:"
   ]
  },
  {
   "cell_type": "code",
   "execution_count": null,
   "id": "64fc05e9",
   "metadata": {},
   "outputs": [],
   "source": [
    "dict_1 = {'key_1': 'AAA', 'key_2': 'BBB', 'key_3': 'CCC'}\n"
   ]
  },
  {
   "cell_type": "code",
   "execution_count": null,
   "id": "f37dfcf3",
   "metadata": {},
   "outputs": [],
   "source": [
    "# Using del() function\n",
    "\n",
    "del(dict_1['key_1'])\n",
    "dict_1"
   ]
  },
  {
   "cell_type": "code",
   "execution_count": null,
   "id": "6a3e75e3",
   "metadata": {},
   "outputs": [],
   "source": [
    "del(dict_1['key_1'])"
   ]
  },
  {
   "cell_type": "code",
   "execution_count": null,
   "id": "71762ebd",
   "metadata": {},
   "outputs": [],
   "source": [
    "# Using pop() method\n",
    "\n",
    "dict_1.pop(\"key_2\")"
   ]
  },
  {
   "cell_type": "code",
   "execution_count": null,
   "id": "12ce7a2a",
   "metadata": {},
   "outputs": [],
   "source": [
    "dict_1"
   ]
  },
  {
   "cell_type": "markdown",
   "id": "628719c3",
   "metadata": {},
   "source": [
    "## Some other cool Dictionary functions and methods"
   ]
  },
  {
   "cell_type": "markdown",
   "id": "a31b8205",
   "metadata": {},
   "source": [
    "### len(dict1)\n",
    "**Gives the total length of the dictionary. This would be equal to the number of items in the dictionary.**"
   ]
  },
  {
   "cell_type": "code",
   "execution_count": null,
   "id": "8188da31",
   "metadata": {},
   "outputs": [],
   "source": [
    "dict_1 = {'Maxence': 1993, 'Andy': 1994, 'John': 1978}\n",
    "dict_2 = {'Andy': 1928, 'Bill': 2000}\n",
    "\n",
    "\n",
    "len(dict_1)"
   ]
  },
  {
   "cell_type": "markdown",
   "id": "911e3ad4",
   "metadata": {},
   "source": [
    "### dict.clear()\n",
    "\t\n",
    "**Removes all elements of dictionary dict**"
   ]
  },
  {
   "cell_type": "code",
   "execution_count": null,
   "id": "1b905d2e",
   "metadata": {},
   "outputs": [],
   "source": [
    "dict_1 = {'Maxence': 1993, 'Andy': 1994, 'John': 1978}\n",
    "\n",
    "dict_1.clear()\n",
    "dict_1"
   ]
  },
  {
   "cell_type": "markdown",
   "id": "4b7413ad",
   "metadata": {},
   "source": [
    "### dict.copy() \n",
    "**Returns a shallow copy of dictionary dict**"
   ]
  },
  {
   "cell_type": "code",
   "execution_count": null,
   "id": "bd6c2eda",
   "metadata": {},
   "outputs": [],
   "source": [
    "dict_1 = {'Maxence': 1993, 'Andy': 1994, 'John': 1978}\n",
    "dict_2 = dict_1.copy()\n",
    "\n",
    "\n",
    "print(dict_2)\n",
    "dict_1.clear()\n",
    "print('After clearing dict_1')\n",
    "print(dict_1)\n",
    "print(dict_2)"
   ]
  },
  {
   "cell_type": "markdown",
   "id": "72f1038a",
   "metadata": {},
   "source": [
    "### There are many other, more or less useful..."
   ]
  },
  {
   "cell_type": "markdown",
   "id": "b33d40b1",
   "metadata": {},
   "source": [
    "----"
   ]
  },
  {
   "cell_type": "markdown",
   "id": "e246a703",
   "metadata": {},
   "source": [
    "## Dict comprehension"
   ]
  },
  {
   "cell_type": "markdown",
   "id": "48d3a7e2",
   "metadata": {},
   "source": [
    "Similarly to List comprehension, we can create a dictionnary base on iteration\n",
    "\n",
    "\n",
    "```python\n",
    "        dict = {key, value for key, value in some_iterable}\n",
    "```"
   ]
  },
  {
   "cell_type": "markdown",
   "id": "cac1b38d",
   "metadata": {},
   "source": [
    "### Example"
   ]
  },
  {
   "cell_type": "code",
   "execution_count": null,
   "id": "390121cf",
   "metadata": {},
   "outputs": [],
   "source": [
    "# dictionary with integers from 0 to 4 as keys and the square as values\n",
    "dict_square = {x: x**2 for x in range(5)}\n",
    "\n",
    "dict_square"
   ]
  },
  {
   "cell_type": "code",
   "execution_count": null,
   "id": "e61f762e",
   "metadata": {},
   "outputs": [],
   "source": [
    "# dictionary with words as keys and their length as values\n",
    "\n",
    "list_of_words = ['I', \"love\", \"on-train\", \"courses\", \"!\"]\n",
    "\n",
    "{word: len(word) for word in list_of_words}\n"
   ]
  },
  {
   "cell_type": "markdown",
   "id": "d76d02ea",
   "metadata": {},
   "source": [
    "![questions](q_a.gif)"
   ]
  },
  {
   "cell_type": "markdown",
   "id": "27353c35",
   "metadata": {},
   "source": [
    "### Exercise\n",
    "\n",
    "Build a dictionary with:\n",
    "- integers from 0 to 10 as keys\n",
    "\n",
    "\n",
    "- boolean saying if they're even or not as value\n",
    "\n",
    "Expected result:\n",
    "    \n",
    "```python\n",
    "    {0: True, 1: False, 2: True, 3: False, 4: True, 5: False, 6: True, 7: False, 8: True, 9: False, 10: True}\n",
    "```\n"
   ]
  },
  {
   "cell_type": "markdown",
   "id": "ae6e80bb",
   "metadata": {},
   "source": [
    "## Nested Dictionaries"
   ]
  },
  {
   "cell_type": "markdown",
   "id": "4de7ae90",
   "metadata": {},
   "source": [
    "As we've seen before, **values can take any data type**\n",
    "\n",
    "This means that values can be Dict, List, List of Dict, ...\n",
    "\n",
    "The result is that some dictionaries can have a complex, nested data structure"
   ]
  },
  {
   "cell_type": "markdown",
   "id": "06349d0a",
   "metadata": {},
   "source": [
    "### Examples:"
   ]
  },
  {
   "cell_type": "markdown",
   "id": "c91a2239",
   "metadata": {},
   "source": [
    "- The following dictionary is a Dict of Dict\n",
    "- The items value is a List"
   ]
  },
  {
   "cell_type": "code",
   "execution_count": null,
   "id": "36b89b7b",
   "metadata": {},
   "outputs": [],
   "source": [
    "from pprint import pprint\n",
    "# pprint is used to have a better visualisation of complex structures\n",
    "\n",
    "nested_dict_1 = {\n",
    "    1: {'brand': 'ford', 'model': 'escort', 'versions': [\"100ch\", \"200ch\"]},\n",
    "    2: {'brand': 'ford', 'model': 'focus', 'versions': [\"100ch\", \"150ch\", \"200ch\"]},\n",
    "    3: {'brand': 'renault', 'model': 'clio', 'versions': [\"100ch\", \"150ch\"]},\n",
    "    4: {'brand': 'renault', 'model': 'twingo', 'versions': [\"50ch\", \"80ch\"]}\n",
    "}\n",
    "\n",
    "\n",
    "pprint(nested_dict_1)"
   ]
  },
  {
   "cell_type": "markdown",
   "id": "16fd4a31",
   "metadata": {},
   "source": [
    "The same data can be organised differently.\n",
    "\n",
    "The following dictionary takes the value of ```model``` from previous dictionary as key"
   ]
  },
  {
   "cell_type": "code",
   "execution_count": null,
   "id": "df20a1bf",
   "metadata": {},
   "outputs": [],
   "source": [
    "nested_dict_2 = {\n",
    "    'escort': {'brand': 'ford', 'versions': ['100ch', '200ch']},\n",
    "    'focus': {'brand': 'ford', 'versions': ['100ch', '150ch', '200ch']},\n",
    "    'clio': {'brand': 'renault', 'versions': ['100ch', '150ch']},\n",
    "    'twingo': {'brand': 'renault', 'versions': ['50ch', '80ch']}\n",
    "}\n",
    "\n",
    "pprint(nested_dict_2)"
   ]
  },
  {
   "cell_type": "markdown",
   "id": "62f1e7c6",
   "metadata": {},
   "source": [
    "The following dictionary takes the value of ```brand``` from previous dictionary as key. \n",
    "The value is a list of Dict corresponding to that brand"
   ]
  },
  {
   "cell_type": "code",
   "execution_count": null,
   "id": "436ccd20",
   "metadata": {},
   "outputs": [],
   "source": [
    "nested_dict_3 = {'ford': [\n",
    "    {'brand': 'ford', 'model': 'escort', 'versions': ['100ch', '200ch']},\n",
    "    {'brand': 'ford', 'model': 'focus', 'versions': ['100ch', '150ch', '200ch']}],\n",
    "    'renault': [\n",
    "        {'brand': 'renault', 'model': 'clio', 'versions': ['100ch', '150ch']},\n",
    "        {'renault': {'brand': 'renault', 'model': 'twingo',\n",
    "                     'versions': ['50ch', '80ch']\n",
    "                     }}\n",
    "    ]\n",
    "}\n",
    "\n",
    "pprint(nested_dict_3)"
   ]
  },
  {
   "cell_type": "markdown",
   "id": "1c4df4e8",
   "metadata": {},
   "source": [
    "### Exercises / Homeworks\n",
    "\n",
    "**Using Dict and List comprehension, build nested_dict_2 and nested_dict_3 based on nested_dict_1**\n",
    "\n",
    "\n"
   ]
  },
  {
   "cell_type": "markdown",
   "id": "62976d5d",
   "metadata": {},
   "source": [
    "----"
   ]
  },
  {
   "cell_type": "markdown",
   "id": "57274804",
   "metadata": {},
   "source": [
    "## Conclusion - Dictionaries and more complex data types"
   ]
  },
  {
   "cell_type": "markdown",
   "id": "792adf1b",
   "metadata": {},
   "source": [
    "More and more complex dictionaries can be hard to read, write and transform.\n",
    "\n",
    "Besides, dealing with big volumes an data makes it computationnaly expensive.\n",
    "\n",
    "New data types have been created to meet this limits and allow us to manipulate big chunks of data easily:\n",
    "\n",
    "# 🎉🎉🎉🎉🎉🎉🎉🎉🎉🎉🎉🎉🎉🎉🎉🎉🎉🎉🎉🎉🎉🎉🎉🎉🎉🎉🎉🎉🎉🎉🎉🎉🎉🎉🎉🎉🎉🎉🎉🎉🎉🎉🎉🎉🎉🎉🎉🎉🎉🎉🎉PANDAS DATAFRAMES 🎉🎉🎉🎉🎉🎉🎉🎉🎉🎉🎉🎉🎉🎉🎉🎉🎉🎉🎉🎉🎉🎉🎉🎉🎉🎉🎉🎉🎉🎉🎉🎉🎉🎉🎉🎉🎉🎉🎉🎉🎉🎉🎉🎉🎉🎉🎉🎉🎉"
   ]
  }
 ],
 "metadata": {
  "kernelspec": {
   "display_name": "Python 3 (ipykernel)",
   "language": "python",
   "name": "python3"
  },
  "language_info": {
   "codemirror_mode": {
    "name": "ipython",
    "version": 3
   },
   "file_extension": ".py",
   "mimetype": "text/x-python",
   "name": "python",
   "nbconvert_exporter": "python",
   "pygments_lexer": "ipython3",
   "version": "3.9.12"
  }
 },
 "nbformat": 4,
 "nbformat_minor": 5
}
