{
 "cells": [
  {
   "cell_type": "markdown",
   "id": "4bd19c23",
   "metadata": {},
   "source": [
    "# <center> Introduction to Python Libraries"
   ]
  },
  {
   "cell_type": "markdown",
   "id": "f7781fe3",
   "metadata": {},
   "source": [
    "## Definitions\n",
    "\n",
    "> A Python library is a reusable piece of code that codes can include to their programs or projects\n",
    "\n",
    "> A Python library is a collection of packages"
   ]
  },
  {
   "cell_type": "markdown",
   "id": "6003f225",
   "metadata": {},
   "source": [
    "## The Python Standard Library"
   ]
  },
  {
   "cell_type": "markdown",
   "id": "9d797ed5",
   "metadata": {},
   "source": [
    "\n",
    "The Python Standard Library is the collection of native Python packages.\n",
    "\n",
    "Native means they are developed and maintained by the Python Software Foundation.\n",
    "\n",
    "- It's the \"official\" collection of packages\n",
    "- It is written in C\n",
    "- It handles all basic functionalities\n",
    "- It does not require any installation (except for Pythn)\n",
    "\n",
    "Let's have a [look](https://docs.python.org/3/library/index.html)"
   ]
  },
  {
   "cell_type": "markdown",
   "id": "108475f4",
   "metadata": {},
   "source": [
    "### How to use a package?\n",
    "\n",
    "1. **import it**\n",
    "2. **use fonctions and classes**"
   ]
  },
  {
   "cell_type": "markdown",
   "id": "3c1ce0b8",
   "metadata": {},
   "source": [
    "### Math Package"
   ]
  },
  {
   "cell_type": "code",
   "execution_count": 1,
   "id": "7c35dda4",
   "metadata": {},
   "outputs": [],
   "source": [
    "import math # We need to import the package before using it"
   ]
  },
  {
   "cell_type": "code",
   "execution_count": 2,
   "id": "acb3f63b",
   "metadata": {},
   "outputs": [
    {
     "data": {
      "text/plain": [
       "3.141592653589793"
      ]
     },
     "execution_count": 2,
     "metadata": {},
     "output_type": "execute_result"
    }
   ],
   "source": [
    "pi = math.pi\n",
    "pi"
   ]
  },
  {
   "cell_type": "code",
   "execution_count": 3,
   "id": "bc9255f2",
   "metadata": {},
   "outputs": [
    {
     "data": {
      "text/plain": [
       "1.0"
      ]
     },
     "execution_count": 3,
     "metadata": {},
     "output_type": "execute_result"
    }
   ],
   "source": [
    "math.sin(pi / 2)"
   ]
  },
  {
   "cell_type": "code",
   "execution_count": 4,
   "id": "2ddb0486",
   "metadata": {},
   "outputs": [
    {
     "data": {
      "text/plain": [
       "3.0"
      ]
     },
     "execution_count": 4,
     "metadata": {},
     "output_type": "execute_result"
    }
   ],
   "source": [
    "math.sqrt(9)"
   ]
  },
  {
   "cell_type": "code",
   "execution_count": 5,
   "id": "afd860fa",
   "metadata": {},
   "outputs": [
    {
     "data": {
      "text/plain": [
       "403.4287934927351"
      ]
     },
     "execution_count": 5,
     "metadata": {},
     "output_type": "execute_result"
    }
   ],
   "source": [
    "math.exp(6)"
   ]
  },
  {
   "cell_type": "markdown",
   "id": "1f75e59a",
   "metadata": {},
   "source": [
    "### Datetime Package"
   ]
  },
  {
   "cell_type": "markdown",
   "id": "b04e4f40",
   "metadata": {},
   "source": [
    "The package allows us to create and manipulate datetime objects"
   ]
  },
  {
   "cell_type": "code",
   "execution_count": 7,
   "id": "1c34d84b",
   "metadata": {},
   "outputs": [
    {
     "data": {
      "text/plain": [
       "datetime.datetime(2021, 12, 25, 9, 37, 16)"
      ]
     },
     "execution_count": 7,
     "metadata": {},
     "output_type": "execute_result"
    }
   ],
   "source": [
    "import datetime\n",
    "my_first_datetime_object = datetime.datetime(2021, 12, 25, 9, 37, 16)\n",
    "my_first_datetime_object"
   ]
  },
  {
   "cell_type": "code",
   "execution_count": 9,
   "id": "33df4aa2",
   "metadata": {},
   "outputs": [],
   "source": [
    "from datetime import datetime\n",
    "my_datetime_object = datetime(2021, 12, 25, 9, 37, 16)"
   ]
  },
  {
   "cell_type": "code",
   "execution_count": 10,
   "id": "76a350c5",
   "metadata": {},
   "outputs": [
    {
     "name": "stdout",
     "output_type": "stream",
     "text": [
      "2021-12-25 09:37:16\n"
     ]
    }
   ],
   "source": [
    "print(my_datetime_object) # string representation of a datetime object"
   ]
  },
  {
   "cell_type": "code",
   "execution_count": 11,
   "id": "20da74eb",
   "metadata": {},
   "outputs": [
    {
     "name": "stdout",
     "output_type": "stream",
     "text": [
      "<class 'datetime.datetime'>\n"
     ]
    }
   ],
   "source": [
    "print(type(my_datetime_object)) # type of a datetime object"
   ]
  },
  {
   "cell_type": "code",
   "execution_count": null,
   "id": "71eba77c",
   "metadata": {},
   "outputs": [],
   "source": [
    "my_datetime_object"
   ]
  },
  {
   "cell_type": "markdown",
   "id": "e647f49a",
   "metadata": {},
   "source": [
    "The package also allows us to manage other classes / objects"
   ]
  },
  {
   "cell_type": "code",
   "execution_count": null,
   "id": "63779286",
   "metadata": {},
   "outputs": [],
   "source": [
    "from datetime import date\n",
    "my_date_object = date(2021, 12, 25)\n",
    "print(my_date_object) # string representation of a datetime object\n",
    "print(type(my_date_object)) # type of a datetime object\n",
    "my_date_object"
   ]
  },
  {
   "cell_type": "markdown",
   "id": "22de0d0f",
   "metadata": {},
   "source": [
    "#### Discovery time "
   ]
  },
  {
   "cell_type": "markdown",
   "id": "fbfe8ba8",
   "metadata": {},
   "source": [
    "**Exercice 1:**\n",
    "\n",
    "> Write a program to:  \n",
    " \n",
    "- Print today's date and time\n",
    "- Print today's date ONLY"
   ]
  },
  {
   "cell_type": "code",
   "execution_count": null,
   "id": "df05e02c",
   "metadata": {},
   "outputs": [],
   "source": [
    "# Type your solution here"
   ]
  },
  {
   "cell_type": "markdown",
   "id": "a18e39c0",
   "metadata": {},
   "source": [
    "**Exercice 2:**\n",
    "    \n",
    "> Write a Python program to subtract five days from current date\n",
    "\n",
    "*Tip: Have a look at the class:* **timedelta**\n"
   ]
  },
  {
   "cell_type": "code",
   "execution_count": null,
   "id": "5d71ba82",
   "metadata": {},
   "outputs": [],
   "source": [
    "# Type your solution here"
   ]
  },
  {
   "cell_type": "markdown",
   "id": "a1eb0352",
   "metadata": {},
   "source": [
    "**Exercice 3:**\n",
    "\n",
    "> Write a program to:  \n",
    "\n",
    "- Print current year\n",
    "\n",
    "- Week number of the year\n",
    "\n",
    "- Day of year\n",
    "\n",
    "- Day of week\n",
    "\n",
    "\n",
    "*Tip: Have a look at the method:* **strftime**\n"
   ]
  },
  {
   "cell_type": "code",
   "execution_count": null,
   "id": "cd2deb54",
   "metadata": {},
   "outputs": [],
   "source": [
    "# Type your solution here"
   ]
  },
  {
   "cell_type": "markdown",
   "id": "720d0552",
   "metadata": {},
   "source": [
    "### Regex Package"
   ]
  },
  {
   "cell_type": "code",
   "execution_count": null,
   "id": "f3a2780e",
   "metadata": {},
   "outputs": [],
   "source": [
    "import re\n",
    "\n",
    "pattern = '^O*n$'\n",
    "test_string = 'OnTrain'\n",
    "result = re.match(pattern, test_string)\n",
    "\n",
    "if result:\n",
    "  print(\"Text matches pattern.\")\n",
    "else:\n",
    "  print(\"Text does not match pattern.\")"
   ]
  },
  {
   "cell_type": "code",
   "execution_count": null,
   "id": "515f6f66",
   "metadata": {},
   "outputs": [],
   "source": [
    "# Removes 0 from an IP address\n",
    "ip = \"216.08.094.196\"\n",
    "\n",
    "new_ip = re.sub('\\.[0]*', '.', ip)\n",
    "\n",
    "new_ip"
   ]
  },
  {
   "cell_type": "code",
   "execution_count": null,
   "id": "33b3d47e",
   "metadata": {},
   "outputs": [],
   "source": []
  },
  {
   "cell_type": "markdown",
   "id": "f08291c1",
   "metadata": {},
   "source": [
    "## Python Package Index (PyPI) - User defined packages"
   ]
  },
  {
   "cell_type": "markdown",
   "id": "0cab2160",
   "metadata": {},
   "source": [
    "Python package index (nicknamed PyPI) is the largest collection of Python packages.\n",
    "\n",
    "Those package are developed and maintained by the **Python community**.\n",
    "\n",
    "- Anyone can upload a package to PyPI\n",
    "- Anyone can download and install a package from PyPI\n",
    "\n",
    "Let's have a [look](https://pypi.org/)"
   ]
  },
  {
   "cell_type": "markdown",
   "id": "14901369",
   "metadata": {},
   "source": [
    "### Versioning"
   ]
  },
  {
   "cell_type": "markdown",
   "id": "5131b1d3",
   "metadata": {},
   "source": [
    "Python packages use three-part version numbers:\n",
    "\n",
    "```bash\n",
    "major_version.minor_version.patch\n",
    "```\n",
    "\n",
    "Version gives us information about how the package works.\n",
    "\n",
    "Packages are often based on other packages and are compatible with specific versions of those packages.\n",
    "\n",
    "- patch number is incremented mostly for bug fixes or minor changes\n",
    "\n",
    "*e.g We create a new function or we update the doc*\n",
    "\n",
    "- minor version is incremented when we add new features without changing existing ones.\n",
    "\n",
    "*e.g We create a new function*\n",
    "\n",
    "- major version is incremented for the changes which are not backward compatible.\n",
    "\n",
    "*e.g We add a required argument to an existing function*\n",
    "\n",
    "\n",
    "\n",
    "\n",
    "\n"
   ]
  },
  {
   "cell_type": "markdown",
   "id": "84556aee",
   "metadata": {},
   "source": [
    "### Pip"
   ]
  },
  {
   "cell_type": "markdown",
   "id": "91f824f0",
   "metadata": {},
   "source": [
    "Pip is the standard package manager for Python. \n",
    "Pip is installed as part of Python installation.\n",
    "\n",
    "It allows you to install / uninstall and manage additional packages that are not part of the Python standard library.\n",
    "\n",
    "**Useful commands:**\n",
    "\n",
    "**- Check which version of pip we have installed**\n",
    "\n",
    "```bash\n",
    "pip --version\n",
    "```\n",
    "\n",
    "**- List the packages already installed and their version**\n",
    "\n",
    "```bash\n",
    "pip list\n",
    "```\n",
    "\n",
    "```shell\n",
    "pip freeze\n",
    "```\n",
    "\n",
    "\n",
    "**- Show a specific package information**\n",
    "\n",
    "```shell\n",
    "pip show pandas\n",
    "```\n",
    "\n",
    "\n",
    "**- Install a package**\n",
    "\n",
    "By default, the last version available is installed.\n",
    "\n",
    "```shell\n",
    "pip install scikit-learn\n",
    "```\n",
    "\n",
    "\n",
    "**- Uninstall a package**\n",
    "\n",
    "\n",
    "```shell\n",
    "pip uninstall scikit-learn\n",
    "```\n",
    "\n",
    "\n",
    "**- Install a package specific version**\n",
    "\n",
    "```shell\n",
    "pip install scikit-learn==1.0.0\n",
    "```\n",
    "\n",
    "\n",
    "**- List all available versions of a package**\n",
    "\n",
    "```bash\n",
    "pip install scikit-learn==1.0.0\n",
    "```"
   ]
  },
  {
   "cell_type": "markdown",
   "id": "35d5da21",
   "metadata": {},
   "source": []
  },
  {
   "cell_type": "code",
   "execution_count": null,
   "id": "0801b38c",
   "metadata": {},
   "outputs": [],
   "source": []
  }
 ],
 "metadata": {
  "kernelspec": {
   "display_name": "jupyter-gsl",
   "language": "python",
   "name": "jupyter-gsl"
  },
  "language_info": {
   "codemirror_mode": {
    "name": "ipython",
    "version": 3
   },
   "file_extension": ".py",
   "mimetype": "text/x-python",
   "name": "python",
   "nbconvert_exporter": "python",
   "pygments_lexer": "ipython3",
   "version": "3.9.10"
  }
 },
 "nbformat": 4,
 "nbformat_minor": 5
}
