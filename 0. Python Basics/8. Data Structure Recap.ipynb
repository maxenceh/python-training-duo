{
 "cells": [
  {
   "cell_type": "markdown",
   "id": "9306be03",
   "metadata": {},
   "source": [
    "# <center> A few more Data Structures"
   ]
  },
  {
   "cell_type": "markdown",
   "id": "26df6d4f",
   "metadata": {},
   "source": [
    "# 1. Tuples"
   ]
  },
  {
   "cell_type": "markdown",
   "id": "25870cc5",
   "metadata": {},
   "source": [
    "## Definition"
   ]
  },
  {
   "cell_type": "markdown",
   "id": "a02ffde9",
   "metadata": {},
   "source": [
    "> A tuple is a collection of Python objects.\n",
    "\n",
    "> It's really similar to a list but Tuples are **immutable** (*i.e. the elements in the tuple cannot be added or removed once created.*)"
   ]
  },
  {
   "cell_type": "code",
   "execution_count": 1,
   "id": "ba33ed90",
   "metadata": {},
   "outputs": [
    {
     "data": {
      "text/plain": [
       "('On', 'Train')"
      ]
     },
     "execution_count": 1,
     "metadata": {},
     "output_type": "execute_result"
    }
   ],
   "source": [
    "# We can create a tuple from scratch\n",
    "my_tuple = ('On', 'Train')\n",
    "my_tuple"
   ]
  },
  {
   "cell_type": "code",
   "execution_count": 2,
   "id": "d5e14b61",
   "metadata": {},
   "outputs": [
    {
     "data": {
      "text/plain": [
       "(1, 2, 4, 5, 6)"
      ]
     },
     "execution_count": 2,
     "metadata": {},
     "output_type": "execute_result"
    }
   ],
   "source": [
    "# We can create a tuple from a list\n",
    "list1 = [1, 2, 4, 5, 6]\n",
    "my_tuple = tuple(list1)\n",
    "my_tuple"
   ]
  },
  {
   "cell_type": "code",
   "execution_count": 3,
   "id": "9dfa706d",
   "metadata": {},
   "outputs": [
    {
     "name": "stdout",
     "output_type": "stream",
     "text": [
      "1\n"
     ]
    }
   ],
   "source": [
    "# We can access elements using indexing (same as list)\n",
    "print(my_tuple[0])"
   ]
  },
  {
   "cell_type": "markdown",
   "id": "e7219537",
   "metadata": {},
   "source": [
    "**Conclusion:**\n",
    "\n",
    "> Tuples are like Lists but **immutable**, thus **faster**"
   ]
  },
  {
   "cell_type": "markdown",
   "id": "ceb29906",
   "metadata": {},
   "source": [
    "# 2. Sets"
   ]
  },
  {
   "cell_type": "markdown",
   "id": "b12425c1",
   "metadata": {},
   "source": [
    "## Definition"
   ]
  },
  {
   "cell_type": "markdown",
   "id": "77156b44",
   "metadata": {},
   "source": [
    "> A Set is a collection of data:\n",
    "    \n",
    "    - unordered\n",
    "    - mutable\n",
    "    - does not allow any duplicate element\n",
    "    - does not allow mutable elements\n",
    "    - only allows hashable elements\n"
   ]
  },
  {
   "cell_type": "code",
   "execution_count": 4,
   "id": "1465b0e6",
   "metadata": {},
   "outputs": [
    {
     "data": {
      "text/plain": [
       "{'On', 'Train'}"
      ]
     },
     "execution_count": 4,
     "metadata": {},
     "output_type": "execute_result"
    }
   ],
   "source": [
    "# We can create a set from scratch\n",
    "my_set = {'On', 'Train'}\n",
    "my_set"
   ]
  },
  {
   "cell_type": "code",
   "execution_count": 5,
   "id": "a2f66f0b",
   "metadata": {},
   "outputs": [
    {
     "name": "stdout",
     "output_type": "stream",
     "text": [
      "{1, 2, 3, 'Train', 'On', 'tuple'}\n"
     ]
    }
   ],
   "source": [
    "# We can create a set from a collection (list, tuple) of different data types\n",
    "my_set = set([1, 2, 'On', 3, 'Train', ('tuple')])\n",
    "print(my_set)"
   ]
  },
  {
   "cell_type": "code",
   "execution_count": 7,
   "id": "2c08886c",
   "metadata": {},
   "outputs": [
    {
     "name": "stdout",
     "output_type": "stream",
     "text": [
      "{'On', 'Train', 'Python'}\n"
     ]
    }
   ],
   "source": [
    "# We can use a set to remove duplicates from a list\n",
    "my_set = set(['On', 'Train', 'Python', 'On', 'Train'])\n",
    "print(my_set)"
   ]
  },
  {
   "cell_type": "code",
   "execution_count": 8,
   "id": "298b4c94",
   "metadata": {},
   "outputs": [
    {
     "ename": "TypeError",
     "evalue": "unhashable type: 'list'",
     "output_type": "error",
     "traceback": [
      "\u001b[1;31m---------------------------------------------------------------------------\u001b[0m",
      "\u001b[1;31mTypeError\u001b[0m                                 Traceback (most recent call last)",
      "\u001b[1;32m~\\AppData\\Local\\Temp/ipykernel_9772/3837266167.py\u001b[0m in \u001b[0;36m<module>\u001b[1;34m\u001b[0m\n\u001b[0;32m      1\u001b[0m \u001b[1;31m# Sets cannot contain mutable elements\u001b[0m\u001b[1;33m\u001b[0m\u001b[1;33m\u001b[0m\u001b[0m\n\u001b[0;32m      2\u001b[0m \u001b[0mtuple_of_mutables\u001b[0m \u001b[1;33m=\u001b[0m \u001b[1;33m(\u001b[0m\u001b[1;33m[\u001b[0m\u001b[1;36m1\u001b[0m\u001b[1;33m,\u001b[0m\u001b[1;36m2\u001b[0m\u001b[1;33m,\u001b[0m\u001b[1;36m3\u001b[0m\u001b[1;33m]\u001b[0m\u001b[1;33m,\u001b[0m \u001b[1;34m'ele2'\u001b[0m\u001b[1;33m,\u001b[0m \u001b[1;36m333\u001b[0m\u001b[1;33m)\u001b[0m\u001b[1;33m\u001b[0m\u001b[1;33m\u001b[0m\u001b[0m\n\u001b[1;32m----> 3\u001b[1;33m \u001b[0mset\u001b[0m\u001b[1;33m(\u001b[0m\u001b[0mtuple_of_mutables\u001b[0m\u001b[1;33m)\u001b[0m\u001b[1;33m\u001b[0m\u001b[1;33m\u001b[0m\u001b[0m\n\u001b[0m",
      "\u001b[1;31mTypeError\u001b[0m: unhashable type: 'list'"
     ]
    }
   ],
   "source": [
    "# Sets cannot contain mutable elements\n",
    "tuple_of_mutables = ([1,2,3], 'ele2', 333)\n",
    "set(tuple_of_mutables)"
   ]
  },
  {
   "cell_type": "markdown",
   "id": "45f7c23c",
   "metadata": {},
   "source": [
    "> To have more information about hashing in python, see [this article](https://betterprogramming.pub/3-essential-questions-about-hashable-in-python-33e981042bcb)"
   ]
  },
  {
   "cell_type": "markdown",
   "id": "cb5aa430",
   "metadata": {},
   "source": [
    "> To go further, interesting [paper](https://medium.com/swlh/6-things-to-understand-python-data-mutability-b52f5c5db191) about mutability in python"
   ]
  },
  {
   "cell_type": "code",
   "execution_count": 9,
   "id": "8be62f49",
   "metadata": {},
   "outputs": [
    {
     "name": "stdout",
     "output_type": "stream",
     "text": [
      "{'a', 'e', 'y', 't', 'z', 'r'}\n"
     ]
    },
    {
     "data": {
      "text/plain": [
       "{'a', 'd', 'e', 'r', 't', 'y', 'z'}"
      ]
     },
     "execution_count": 9,
     "metadata": {},
     "output_type": "execute_result"
    }
   ],
   "source": [
    "# Sets are unordered. Element position or insertion order is not taken into acount\n",
    "res = set('azerty')\n",
    "print(res)\n",
    "res.add('d')\n",
    "res"
   ]
  },
  {
   "cell_type": "code",
   "execution_count": 10,
   "id": "56395aa2",
   "metadata": {},
   "outputs": [
    {
     "ename": "TypeError",
     "evalue": "'set' object is not subscriptable",
     "output_type": "error",
     "traceback": [
      "\u001b[1;31m---------------------------------------------------------------------------\u001b[0m",
      "\u001b[1;31mTypeError\u001b[0m                                 Traceback (most recent call last)",
      "\u001b[1;32m~\\AppData\\Local\\Temp/ipykernel_9772/419096650.py\u001b[0m in \u001b[0;36m<module>\u001b[1;34m\u001b[0m\n\u001b[0;32m      1\u001b[0m \u001b[1;31m# We cannot access elements with index\u001b[0m\u001b[1;33m\u001b[0m\u001b[1;33m\u001b[0m\u001b[0m\n\u001b[1;32m----> 2\u001b[1;33m \u001b[0mres\u001b[0m\u001b[1;33m[\u001b[0m\u001b[1;36m0\u001b[0m\u001b[1;33m]\u001b[0m\u001b[1;33m\u001b[0m\u001b[1;33m\u001b[0m\u001b[0m\n\u001b[0m",
      "\u001b[1;31mTypeError\u001b[0m: 'set' object is not subscriptable"
     ]
    }
   ],
   "source": [
    "# We cannot access elements with index\n",
    "res[0]"
   ]
  },
  {
   "cell_type": "markdown",
   "id": "a8d5b1dd",
   "metadata": {},
   "source": [
    "## Sets methods"
   ]
  },
  {
   "cell_type": "markdown",
   "id": "814d97d5",
   "metadata": {},
   "source": [
    "Source: [w3schools](https://www.w3schools.com/python/python_ref_set.asp)\n",
    "\n",
    "- **add()**                             Adds an element to the set\n",
    "- **clear()**                           Removes all the elements from the set\n",
    "- **copy()**                            Returns a copy of the set\n",
    "- **difference()**                      Returns a set containing the difference between two or more sets\n",
    "- **difference_update()**               Removes the items in this set that are also included in another, specified set\n",
    "- **discard()**                         Remove the specified item\n",
    "- **intersection()**                    Returns a set, that is the intersection of two or more sets\n",
    "- **intersection_update()**             Removes the items in this set that are not present in other, specified set(s)   \n",
    "- **isdisjoint()**                      Returns whether two sets have a intersection or not\n",
    "- **issubset()**                        Returns whether another set contains this set or not\n",
    "- **issuperset()**                      Returns whether this set contains another set or not\n",
    "- **pop()**                             Removes an element from the set\n",
    "- **remove()**                          Removes the specified element\n",
    "- **symmetric_difference()**            Returns a set with the symmetric differences of two sets\n",
    "- **symmetric_difference_update()**     inserts the symmetric differences from this set and another\n",
    "- **union()**                           Return a set containing the union of sets\n",
    "- **update()**                          Update the set with another set, or any other iterable"
   ]
  },
  {
   "cell_type": "markdown",
   "id": "5a87ba72",
   "metadata": {},
   "source": [
    "![intersection_2](resources/intersection_2.png)"
   ]
  },
  {
   "cell_type": "markdown",
   "id": "9dafdaf9",
   "metadata": {},
   "source": [
    "----"
   ]
  },
  {
   "cell_type": "markdown",
   "id": "0f56035d",
   "metadata": {},
   "source": [
    "# Recap"
   ]
  },
  {
   "cell_type": "markdown",
   "id": "0cbe5ebe",
   "metadata": {},
   "source": [
    "Python defines multiple built-in data structures:\n",
    "\n",
    "\n",
    "- List\n",
    "- Tuple\n",
    "- Dictionary\n",
    "- Set\n",
    "\n",
    "\n",
    "Each of them provides specific ways to store and access the data"
   ]
  },
  {
   "cell_type": "markdown",
   "id": "b56a7f60",
   "metadata": {},
   "source": [
    "![data_structures](resources/data_structures.png)"
   ]
  },
  {
   "cell_type": "markdown",
   "id": "9dd33ef4",
   "metadata": {},
   "source": [
    "*Source: Atabekov 2019.*"
   ]
  },
  {
   "cell_type": "markdown",
   "id": "07f9f2a2",
   "metadata": {},
   "source": [
    "**Each data structure answers to a specific need, fits better with some algorithms.**"
   ]
  },
  {
   "cell_type": "markdown",
   "id": "1b78a3cd",
   "metadata": {},
   "source": [
    "We'll discover now some new, non-native Data Structures.\n",
    "They are more complex and have been defined specifically for data processing."
   ]
  },
  {
   "cell_type": "markdown",
   "id": "6adb67ce",
   "metadata": {},
   "source": [
    "But first we will discover how to create those new structures ourselves"
   ]
  }
 ],
 "metadata": {
  "kernelspec": {
   "display_name": "seloger",
   "language": "python",
   "name": "seloger"
  },
  "language_info": {
   "codemirror_mode": {
    "name": "ipython",
    "version": 3
   },
   "file_extension": ".py",
   "mimetype": "text/x-python",
   "name": "python",
   "nbconvert_exporter": "python",
   "pygments_lexer": "ipython3",
   "version": "3.9.7"
  }
 },
 "nbformat": 4,
 "nbformat_minor": 5
}
