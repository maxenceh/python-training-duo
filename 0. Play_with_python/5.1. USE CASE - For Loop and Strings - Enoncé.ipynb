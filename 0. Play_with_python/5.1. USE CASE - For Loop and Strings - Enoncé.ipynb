{
 "cells": [
  {
   "cell_type": "markdown",
   "metadata": {},
   "source": [
    "# <center> Use Case - For Loop and Strings"
   ]
  },
  {
   "cell_type": "markdown",
   "metadata": {},
   "source": [
    "### Convert to Char"
   ]
  },
  {
   "cell_type": "markdown",
   "metadata": {},
   "source": [
    "This exercice consists in building function for string manipulations.\n",
    "    \n",
    "We want to remove from a string any non-letter characters using the latin alphabet, and makes it lowercase.\n",
    "\n",
    "**Examples**\n",
    "\n",
    "- `HeLlo` to `hello`\n",
    "- `Never (1) odd or (2) even...` to `neveroddoreven`\n",
    "- ` I l<3 Chri5mas !` to `ilchrimas`"
   ]
  },
  {
   "cell_type": "code",
   "execution_count": 1,
   "metadata": {},
   "outputs": [],
   "source": [
    "def to_chars(s):\n",
    "    \"\"\"\n",
    "    Strips the string s from any non-letter characters (English alphabet), \n",
    "    and makes it lower-case.\n",
    "    \n",
    "    Parameters:\n",
    "        string s\n",
    "    Returns: \n",
    "        string with only lower-case chars of the English alphabet\n",
    "        \n",
    "    Example use\n",
    "    >>> to_chars('HeLlo!')\n",
    "    'hello'\n",
    "    >>> to_chars(\"Never (1) odd or (2) even...\")\n",
    "    'neveroddoreven'\n",
    "    \"\"\""
   ]
  },
  {
   "cell_type": "markdown",
   "metadata": {},
   "source": [
    "### Count number of capital Letters"
   ]
  },
  {
   "cell_type": "markdown",
   "metadata": {},
   "source": [
    "Let's write another function that count the number of words with capital letter in the word, let's say a comment on the website!\n",
    "\n",
    "__Tips__: \n",
    "1. Use the `.split()` function on a string that splits a string into a list where each word is a list item. Try it yourself!\n",
    "\n",
    "```python\n",
    "\"I love chocolate\".split()\n",
    "```\n",
    "\n",
    "2. Use the `.isupper()` function on a string that returns True if the string is upper case, False otherwise. Try it yourself!\n",
    "\n",
    "```python\n",
    "\"I\".isupper()\n",
    "\"I LOVE\".isupper()\n",
    "\"I Love\".isupper()\n",
    "```"
   ]
  },
  {
   "cell_type": "code",
   "execution_count": 19,
   "metadata": {},
   "outputs": [],
   "source": [
    "def count_capital_letters(comment):\n",
    "    \"\"\"\n",
    "    Counts the number of words with capital numbers of the comment\n",
    "    \n",
    "    Parameters:\n",
    "        comment: text\n",
    "    \n",
    "    Returns: \n",
    "        integer count of the number words with capital letters in the comment text\n",
    "    \n",
    "    Example use:\n",
    "    >>> count_capital_letters(\"Hey YOU! How are you ??\")\n",
    "    3\n",
    "    >>> count_capital_letters(\"Hola, como Estas? Bien Y tu?\")\n",
    "    4\n",
    "    \"\"\"\n"
   ]
  }
 ],
 "metadata": {
  "kernelspec": {
   "display_name": "Python 3",
   "language": "python",
   "name": "python3"
  },
  "language_info": {
   "codemirror_mode": {
    "name": "ipython",
    "version": 3
   },
   "file_extension": ".py",
   "mimetype": "text/x-python",
   "name": "python",
   "nbconvert_exporter": "python",
   "pygments_lexer": "ipython3",
   "version": "3.7.6"
  }
 },
 "nbformat": 4,
 "nbformat_minor": 5
}
