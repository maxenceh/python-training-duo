{
 "cells": [
  {
   "cell_type": "markdown",
   "id": "f2dd7c24",
   "metadata": {},
   "source": [
    "# <center> WHILE Loop"
   ]
  },
  {
   "cell_type": "markdown",
   "id": "b954bded",
   "metadata": {},
   "source": [
    "A while loop statement **repeatedly executes a target statement as long as a given condition is true.**\n",
    "\n",
    "## Syntax\n",
    "\n",
    "```python\n",
    "while expression:\n",
    "   do_something(s)\n",
    "```\n",
    "   \n",
    "- The loop iterates while the condition is true.\n",
    "- When the condition becomes false, program executes the line immediately following the loop.\n",
    "- Statements inside the while loop must be indented"
   ]
  },
  {
   "cell_type": "markdown",
   "id": "45051632",
   "metadata": {},
   "source": [
    "### Example"
   ]
  },
  {
   "cell_type": "code",
   "execution_count": 3,
   "id": "e7897021",
   "metadata": {},
   "outputs": [
    {
     "name": "stdout",
     "output_type": "stream",
     "text": [
      "1\n",
      "2\n",
      "3\n",
      "4\n",
      "5\n"
     ]
    }
   ],
   "source": [
    "# Print i as long as i is less than 6:\n",
    "\n",
    "i = 1\n",
    "while i < 6:\n",
    "  print(i)\n",
    "  i += 1"
   ]
  },
  {
   "cell_type": "markdown",
   "id": "6da3d418",
   "metadata": {},
   "source": [
    "----"
   ]
  },
  {
   "cell_type": "markdown",
   "id": "ac2e64e4",
   "metadata": {},
   "source": [
    "## Special statements"
   ]
  },
  {
   "cell_type": "markdown",
   "id": "346228bb",
   "metadata": {},
   "source": [
    "### BREAK\n",
    "\n",
    "The **break** statement is used to stop the loop even if the while condition is true"
   ]
  },
  {
   "cell_type": "markdown",
   "id": "88adf02f",
   "metadata": {},
   "source": [
    "### Example"
   ]
  },
  {
   "cell_type": "code",
   "execution_count": 6,
   "id": "305da4b5",
   "metadata": {},
   "outputs": [
    {
     "name": "stdout",
     "output_type": "stream",
     "text": [
      "1\n",
      "2\n",
      "3\n"
     ]
    }
   ],
   "source": [
    "# Print all integer until 3\n",
    "\n",
    "i = 1\n",
    "while i < 6:\n",
    "  print(i)\n",
    "  if i == 3:\n",
    "    break\n",
    "  i += 1"
   ]
  },
  {
   "cell_type": "markdown",
   "id": "ec626aee",
   "metadata": {},
   "source": [
    "### CONTINUE\n",
    "\n",
    "The **continue** statement is used to stop current iteration, and continue with the next\n",
    "\n"
   ]
  },
  {
   "cell_type": "markdown",
   "id": "1ce3d9fc",
   "metadata": {},
   "source": [
    "### Example"
   ]
  },
  {
   "cell_type": "code",
   "execution_count": 7,
   "id": "6018112a",
   "metadata": {
    "scrolled": true
   },
   "outputs": [
    {
     "name": "stdout",
     "output_type": "stream",
     "text": [
      "1\n",
      "2\n",
      "4\n",
      "5\n",
      "6\n"
     ]
    }
   ],
   "source": [
    "# Print all integer except 3\n",
    "\n",
    "i = 0\n",
    "while i < 6:\n",
    "  i += 1\n",
    "  if i == 3:\n",
    "    continue\n",
    "  print(i)"
   ]
  },
  {
   "cell_type": "markdown",
   "id": "52147ab5",
   "metadata": {},
   "source": [
    "### PASS\n",
    "\n",
    "The **pass** statement is used as a null or blank statement\n",
    "\n",
    "If for one iteration we don't want to do anything, leaving an empty statement would raise an error.\n",
    "\n",
    "Instead, we use **pass**\n",
    "\n"
   ]
  },
  {
   "cell_type": "code",
   "execution_count": 21,
   "id": "45b52f5f",
   "metadata": {},
   "outputs": [
    {
     "ename": "IndentationError",
     "evalue": "expected an indented block (4169195734.py, line 6)",
     "output_type": "error",
     "traceback": [
      "\u001b[0;36m  File \u001b[0;32m\"/var/folders/9s/2f627_zj0qj41fr_c079b94c0000gn/T/ipykernel_56049/4169195734.py\"\u001b[0;36m, line \u001b[0;32m6\u001b[0m\n\u001b[0;31m    else:\u001b[0m\n\u001b[0m    ^\u001b[0m\n\u001b[0;31mIndentationError\u001b[0m\u001b[0;31m:\u001b[0m expected an indented block\n"
     ]
    }
   ],
   "source": [
    "# leaving an empty statement would raise an error \n",
    "\n",
    "i = 0\n",
    "while i < 6:\n",
    "    i += 1\n",
    "    if i == 3:\n",
    "        # do nothing\n",
    "    else:\n",
    "        print(i)"
   ]
  },
  {
   "cell_type": "code",
   "execution_count": 24,
   "id": "e64c0a1d",
   "metadata": {},
   "outputs": [
    {
     "name": "stdout",
     "output_type": "stream",
     "text": [
      "1\n",
      "2\n",
      "4\n",
      "5\n",
      "6\n"
     ]
    }
   ],
   "source": [
    "## Instead, we use **pass**\n",
    "\n",
    "\n",
    "\n",
    "i = 0\n",
    "while i < 6:\n",
    "    i += 1\n",
    "    \n",
    "    if i == 3:\n",
    "        pass\n",
    "    \n",
    "    else:\n",
    "        print(i)"
   ]
  },
  {
   "cell_type": "markdown",
   "id": "979e724c",
   "metadata": {},
   "source": [
    "### Example"
   ]
  },
  {
   "cell_type": "code",
   "execution_count": 7,
   "id": "6240e289",
   "metadata": {
    "scrolled": true
   },
   "outputs": [
    {
     "name": "stdout",
     "output_type": "stream",
     "text": [
      "1\n",
      "2\n",
      "4\n",
      "5\n",
      "6\n"
     ]
    }
   ],
   "source": [
    "# Print all integer except 3\n",
    "\n",
    "i = 0\n",
    "while i < 6:\n",
    "  i += 1\n",
    "  if i == 3:\n",
    "    continue\n",
    "  print(i)"
   ]
  },
  {
   "cell_type": "markdown",
   "id": "8fc30547",
   "metadata": {},
   "source": [
    "### ELSE\n",
    "\n",
    "The **else** statement is used to stop current iteration, and continue with the next\n",
    "\n"
   ]
  },
  {
   "cell_type": "markdown",
   "id": "bfd8f089",
   "metadata": {},
   "source": [
    "### Example"
   ]
  },
  {
   "cell_type": "code",
   "execution_count": 9,
   "id": "f99aa625",
   "metadata": {
    "scrolled": true
   },
   "outputs": [
    {
     "name": "stdout",
     "output_type": "stream",
     "text": [
      "1\n",
      "2\n",
      "3\n",
      "4\n",
      "5\n",
      "i is no longer less than 6\n"
     ]
    }
   ],
   "source": [
    "# Print a message when the loop is over\n",
    "\n",
    "i = 1\n",
    "while i < 6:\n",
    "  print(i)\n",
    "  i += 1\n",
    "else:\n",
    "  print(\"i is no longer less than 6\")"
   ]
  },
  {
   "cell_type": "code",
   "execution_count": 10,
   "id": "9d25e8c0",
   "metadata": {},
   "outputs": [
    {
     "name": "stdout",
     "output_type": "stream",
     "text": [
      "1\n",
      "2\n",
      "3\n",
      "4\n",
      "5\n",
      "i is no longer less than 6\n"
     ]
    }
   ],
   "source": [
    "# By default, the code executed continue on the line after the while loop\n",
    "\n",
    "i = 1\n",
    "while i < 6:\n",
    "  print(i)\n",
    "  i += 1\n",
    "print(\"i is no longer less than 6\")"
   ]
  },
  {
   "cell_type": "markdown",
   "id": "675f1384",
   "metadata": {},
   "source": [
    "## Infinite loop"
   ]
  },
  {
   "cell_type": "markdown",
   "id": "bd23ea47",
   "metadata": {},
   "source": [
    "### Exercise\n",
    "\n",
    "How would you write an infinite loop to print all integers from 0 to ∞?"
   ]
  },
  {
   "cell_type": "code",
   "execution_count": 4,
   "id": "27eb2551",
   "metadata": {},
   "outputs": [],
   "source": [
    "# Type your answer here\n",
    "\n"
   ]
  },
  {
   "cell_type": "markdown",
   "id": "123088a3",
   "metadata": {},
   "source": [
    "## Nested while loop\n",
    "\n",
    "Statements in the while loop can contain while/for loops"
   ]
  },
  {
   "cell_type": "code",
   "execution_count": 11,
   "id": "d20d45c4",
   "metadata": {},
   "outputs": [
    {
     "name": "stdout",
     "output_type": "stream",
     "text": [
      "1 0\n",
      "1 1\n",
      "1 2\n",
      "2 0\n",
      "2 1\n",
      "2 2\n",
      "3 0\n",
      "3 1\n",
      "3 2\n",
      "4 0\n",
      "4 1\n",
      "4 2\n",
      "5 0\n",
      "5 1\n",
      "5 2\n"
     ]
    }
   ],
   "source": [
    "i = 1\n",
    "\n",
    "while i < 6:\n",
    "    j = 0\n",
    "    while j < 3:\n",
    "      print(i, j)\n",
    "      j += 1\n",
    "    i += 1"
   ]
  },
  {
   "cell_type": "markdown",
   "id": "2b21bf5d",
   "metadata": {},
   "source": [
    "----"
   ]
  },
  {
   "cell_type": "markdown",
   "id": "a2b302f1",
   "metadata": {},
   "source": [
    "![questions](q_a.gif)"
   ]
  },
  {
   "cell_type": "markdown",
   "id": "80084f36",
   "metadata": {},
   "source": [
    "### Exercices"
   ]
  },
  {
   "cell_type": "markdown",
   "id": "3b9953d4",
   "metadata": {},
   "source": [
    "**Exercice 1**\n",
    "\n",
    "Write a WHILE loop to print all odd numbers from 1 to 21\n"
   ]
  },
  {
   "cell_type": "code",
   "execution_count": 16,
   "id": "1629f320",
   "metadata": {
    "scrolled": true
   },
   "outputs": [],
   "source": [
    "# Type your answer here\n",
    "\n",
    "\n",
    "\n",
    "# Expected results\n",
    "\n",
    "# 1\n",
    "# 3\n",
    "# 5\n",
    "# 7\n",
    "# 9\n",
    "# 11\n",
    "# 13\n",
    "# 15\n",
    "# 17\n",
    "# 19\n",
    "# 21"
   ]
  },
  {
   "cell_type": "markdown",
   "id": "4ae4330a",
   "metadata": {},
   "source": [
    "**Exercice 2**\n",
    "\n",
    "Write a WHILE loop to print all even numbers from 0 to 22\n"
   ]
  },
  {
   "cell_type": "code",
   "execution_count": 18,
   "id": "ba576810",
   "metadata": {},
   "outputs": [],
   "source": [
    "# Type your answer here\n",
    "\n",
    "\n",
    "\n",
    "# Expected results\n",
    "\n",
    "# 0\n",
    "# 2\n",
    "# 4\n",
    "# 6\n",
    "# 8\n",
    "# 10\n",
    "# 12\n",
    "# 14\n",
    "# 16\n",
    "# 18\n",
    "# 20\n",
    "# 22"
   ]
  },
  {
   "cell_type": "markdown",
   "id": "081e276c",
   "metadata": {},
   "source": [
    "**Exercice 3 - Square Root Calculation**"
   ]
  },
  {
   "cell_type": "markdown",
   "id": "ba3ab712",
   "metadata": {},
   "source": [
    "![Heron of Alexandria](heron_of_alexandria.png)"
   ]
  },
  {
   "cell_type": "markdown",
   "id": "4fdd0a23",
   "metadata": {},
   "source": [
    "Heron's Alogrithm to compute the square root of x:\n",
    "- Make a guess, for example x / 2\n",
    "- Divide original number by the guess\n",
    "- Find the average of these numbers\n",
    "- Use this average as next guess\n",
    "- Repeat until your guess^2 is close enough to x\n",
    "\n",
    "\n",
    "Define a function implementing this algorithm."
   ]
  },
  {
   "cell_type": "code",
   "execution_count": 22,
   "id": "b88dc2a9",
   "metadata": {},
   "outputs": [],
   "source": [
    "\n",
    "\n",
    "def square_root(x, error, guess):\n",
    "    \"\"\"\n",
    "    \n",
    "    Args:\n",
    "        x: The number we want to compute the square root\n",
    "        error: The maximum difference between guess^2 and x we accept\n",
    "        guess: The first guess for square toor of x\n",
    "\n",
    "    Returns:\n",
    "\n",
    "    \"\"\"\n",
    "    # WRITE YOUR CODE HERE\n",
    "    pass"
   ]
  },
  {
   "cell_type": "markdown",
   "id": "e196896d",
   "metadata": {},
   "source": [
    "### To go further:\n",
    "Error and guess are optionnal parameters with default values: \n",
    "- error=0.01\n",
    "- guess=X/2"
   ]
  },
  {
   "cell_type": "markdown",
   "id": "8ece6846",
   "metadata": {},
   "source": [
    "---"
   ]
  },
  {
   "cell_type": "markdown",
   "id": "a8b46a28",
   "metadata": {},
   "source": [
    "# Use Case - Palindromes\n",
    "\n",
    "A palindrome is a string that reads the same forward and backwards e.g 'kayak'. \n",
    "Write a function that tests whether an arbitrarily long string is a palindrome. \n",
    "\n",
    "\n",
    "1. Think of the way you want to proceed. If that helps, write a pseudo-code solution\n",
    "\n",
    "2. Complete the function is_palindrome below\n",
    "\n",
    "\n",
    "Hints:\n",
    "- How do we reverse a string? \n",
    "- How do we compare 2 characters of a string\n",
    "- A string might contain capital letters and punctuation that will cause trouble in comparisons, how do you fix that?\n",
    "\n"
   ]
  },
  {
   "cell_type": "code",
   "execution_count": null,
   "id": "b7c359e5",
   "metadata": {},
   "outputs": [],
   "source": []
  },
  {
   "cell_type": "code",
   "execution_count": 33,
   "id": "0eda793a",
   "metadata": {},
   "outputs": [],
   "source": [
    "def is_palindrome(s):\n",
    "    \"\"\" \n",
    "    Palindrome checker\n",
    "    \n",
    "    Parameters:\n",
    "        s is string\n",
    "    \n",
    "    Returns True if s is palindrome, False otherwise\n",
    "    \n",
    "    Examples:\n",
    "    >>> is_palindrome('neveroddoreven')\n",
    "    True\n",
    "    >>> is_palindrome('A man, a plan, a canal: Panama.')\n",
    "    True\n",
    "    >>> is_palindrome('Hello')\n",
    "    False\n",
    "    \"\"\"\n",
    "    # TYPE CODE BELOW\n",
    "    # ..."
   ]
  },
  {
   "cell_type": "code",
   "execution_count": null,
   "id": "3a0b1a17",
   "metadata": {},
   "outputs": [],
   "source": []
  }
 ],
 "metadata": {
  "kernelspec": {
   "display_name": "Python 3 (ipykernel)",
   "language": "python",
   "name": "python3"
  },
  "language_info": {
   "codemirror_mode": {
    "name": "ipython",
    "version": 3
   },
   "file_extension": ".py",
   "mimetype": "text/x-python",
   "name": "python",
   "nbconvert_exporter": "python",
   "pygments_lexer": "ipython3",
   "version": "3.9.9"
  }
 },
 "nbformat": 4,
 "nbformat_minor": 5
}
