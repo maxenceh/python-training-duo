{
 "cells": [
  {
   "cell_type": "markdown",
   "metadata": {},
   "source": [
    "# <center> Use Case - For Loop and Strings"
   ]
  },
  {
   "cell_type": "markdown",
   "metadata": {},
   "source": [
    "### Convert to Char"
   ]
  },
  {
   "cell_type": "markdown",
   "metadata": {},
   "source": [
    "This exercice consists in building function for string manipulations.\n",
    "    \n",
    "We want to remove from a string any non-letter characters using the latin alphabet, and makes it lowercase.\n",
    "\n",
    "**Examples**\n",
    "\n",
    "- `HeLlo` to `hello`\n",
    "- `Never (1) odd or (2) even...` to `neveroddoreven`\n",
    "- ` I l<3 Chri5mas !` to `ilchrimas`"
   ]
  },
  {
   "cell_type": "code",
   "execution_count": 1,
   "metadata": {},
   "outputs": [],
   "source": [
    "def to_chars(s):\n",
    "    \"\"\"\n",
    "    Strips the string s from any non-letter characters (English alphabet), \n",
    "    and makes it lower-case.\n",
    "    \n",
    "    Parameters:\n",
    "        string s\n",
    "    Returns: \n",
    "        string with only lower-case chars of the English alphabet\n",
    "        \n",
    "    Example use\n",
    "    >>> to_chars('HeLlo!')\n",
    "    'hello'\n",
    "    >>> to_chars(\"Never (1) odd or (2) even...\")\n",
    "    'neveroddoreven'\n",
    "    \"\"\"\n",
    "    alphabet = 'abcdefghjiklmnopqrstuvwxyz' # English alphabet\n",
    "    word = ''\n",
    "    s_low = s.lower()\n",
    "    for i in s_low:\n",
    "        if i in alphabet:\n",
    "            word = word + i\n",
    "    return word"
   ]
  },
  {
   "cell_type": "code",
   "execution_count": 2,
   "metadata": {},
   "outputs": [
    {
     "data": {
      "text/plain": [
       "'neveroddoreven'"
      ]
     },
     "execution_count": 2,
     "metadata": {},
     "output_type": "execute_result"
    }
   ],
   "source": [
    "to_chars(\"Never (1) odd or (2) even...\")"
   ]
  },
  {
   "cell_type": "markdown",
   "metadata": {},
   "source": [
    "### Count number of words with capital Letters"
   ]
  },
  {
   "cell_type": "markdown",
   "metadata": {},
   "source": [
    "Let's write another function that count the number of words with capital letter in the word, let's say a comment on the website!\n",
    "\n",
    "__Tips__: \n",
    "1. Use the `.split()` function on a string that splits a string into a list where each word is a list item. Try it yourself!\n",
    "\n",
    "```python\n",
    "\"I love chocolate\".split()\n",
    "```\n",
    "\n",
    "2. Use the `.isupper()` function on a string that returns True if the string is upper case, False otherwise. Try it yourself!\n",
    "\n",
    "```python\n",
    "\"I\".isupper()\n",
    "\"I LOVE\".isupper()\n",
    "\"I Love\".isupper()\n",
    "```"
   ]
  },
  {
   "cell_type": "code",
   "execution_count": 29,
   "metadata": {},
   "outputs": [],
   "source": [
    "def count_capital_letters(comment):\n",
    "    \"\"\"\n",
    "    Counts the number of words with capital numbers of the comment\n",
    "    \n",
    "    Parameters:\n",
    "        comment: text\n",
    "    \n",
    "    Returns: \n",
    "        integer count of the number words with capital letters in the comment text\n",
    "    \n",
    "    Example use:\n",
    "    >>> count_capital_letters(\"Hey YOU! How are you ??\")\n",
    "    3\n",
    "    >>> count_capital_letters(\"Hola, como Estas? Bien Y tu?\")\n",
    "    4\n",
    "    \"\"\"\n",
    "    comment_list = comment.split()\n",
    "    count = 0\n",
    "    for word in comment_list:\n",
    "        if has_word_capital_letter(word):\n",
    "            count += 1\n",
    "    return count\n",
    "                \n",
    "def has_word_capital_letter(word):\n",
    "    for letter in word:\n",
    "        if letter.isupper():\n",
    "            return True\n",
    "    return False"
   ]
  },
  {
   "cell_type": "code",
   "execution_count": 30,
   "metadata": {},
   "outputs": [
    {
     "data": {
      "text/plain": [
       "4"
      ]
     },
     "execution_count": 30,
     "metadata": {},
     "output_type": "execute_result"
    }
   ],
   "source": [
    "count_capital_letters(\"Hola, como Estas? Bien Y tu?\")"
   ]
  },
  {
   "cell_type": "code",
   "execution_count": 33,
   "metadata": {},
   "outputs": [],
   "source": [
    "def count_capital_letters_bis(comment):\n",
    "    \"\"\"\n",
    "    Counts the number of words with capital numbers of the comment\n",
    "    \n",
    "    Parameters:\n",
    "        comment: text\n",
    "    \n",
    "    Returns: \n",
    "        integer count of the number words with capital letters in the comment text\n",
    "    \n",
    "    Example use:\n",
    "    >>> count_capital_letters(\"Hey YOU! How are you ??\")\n",
    "    3\n",
    "    >>> count_capital_letters(\"Hola, como Estas? Bien Y tu?\")\n",
    "    4\n",
    "    \"\"\"\n",
    "    comment_list = comment.split()\n",
    "    count = 0\n",
    "    for word in comment_list:\n",
    "        for letter in word:\n",
    "            if letter.isupper():\n",
    "                count += 1\n",
    "                break\n",
    "    return count"
   ]
  },
  {
   "cell_type": "code",
   "execution_count": 32,
   "metadata": {},
   "outputs": [
    {
     "data": {
      "text/plain": [
       "4"
      ]
     },
     "execution_count": 32,
     "metadata": {},
     "output_type": "execute_result"
    }
   ],
   "source": [
    "count_capital_letters_bis(\"Hola, como Estas? Bien Y tu?\")"
   ]
  }
 ],
 "metadata": {
  "kernelspec": {
   "display_name": "Python 3",
   "language": "python",
   "name": "python3"
  },
  "language_info": {
   "codemirror_mode": {
    "name": "ipython",
    "version": 3
   },
   "file_extension": ".py",
   "mimetype": "text/x-python",
   "name": "python",
   "nbconvert_exporter": "python",
   "pygments_lexer": "ipython3",
   "version": "3.7.6"
  }
 },
 "nbformat": 4,
 "nbformat_minor": 5
}
