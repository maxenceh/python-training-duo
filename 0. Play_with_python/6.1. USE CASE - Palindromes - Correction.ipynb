{
 "cells": [
  {
   "cell_type": "markdown",
   "id": "d6e690a7",
   "metadata": {},
   "source": [
    "# <center> Use Case - Palindromes"
   ]
  },
  {
   "cell_type": "markdown",
   "id": "d0a1baa7",
   "metadata": {},
   "source": [
    "### Using a For Loop"
   ]
  },
  {
   "cell_type": "code",
   "execution_count": null,
   "id": "a4e66d79",
   "metadata": {},
   "outputs": [],
   "source": [
    "def is_palindrome_for(string):\n",
    "    \"\"\" \n",
    "    Palindrome checker\n",
    "    \n",
    "    Parameters:\n",
    "        s is string\n",
    "    \n",
    "    Returns True if s is palindrome, False otherwise\n",
    "    \n",
    "    Examples:\n",
    "    >>> is_palindrome('neveroddoreven')\n",
    "    True\n",
    "    >>> is_palindrome('Hello')\n",
    "    False\n",
    "    >>> is_palindrome(to_chars('A man, a plan, a canal: Panama.'))\n",
    "    True\n",
    "    \"\"\"\n",
    "    string = string.lower().replace(' ', '')\n",
    "    reversed = ''\n",
    "    for i in range(len(string), 0, -1):\n",
    "        reversed += string[i-1]\n",
    "    return string == reversed\n",
    "\n",
    "print(is_palindrome('neveroddoreven'))\n",
    "print(is_palindrome('Hello'))\n",
    "print(is_palindrome('A man, a plan, a canal: Panama.'))"
   ]
  },
  {
   "cell_type": "code",
   "execution_count": null,
   "id": "e1d35117",
   "metadata": {},
   "outputs": [],
   "source": [
    "# Filter non letters / numbers\n",
    "\n",
    "def to_chars(string):\n",
    "    return ''.join(ch for ch in string if ch.isalnum())"
   ]
  },
  {
   "cell_type": "code",
   "execution_count": null,
   "id": "0af106ff",
   "metadata": {},
   "outputs": [],
   "source": [
    "def is_palindrome_for(string):\n",
    "    \"\"\" \n",
    "    Palindrome checker\n",
    "    \n",
    "    Parameters:\n",
    "        s is string\n",
    "    \n",
    "    Returns True if s is palindrome, False otherwise\n",
    "    \n",
    "    Examples:\n",
    "    >>> is_palindrome('neveroddoreven')\n",
    "    True\n",
    "    >>> is_palindrome('Hello')\n",
    "    False\n",
    "    >>> is_palindrome(to_chars('A man, a plan, a canal: Panama.'))\n",
    "    True\n",
    "    \"\"\"\n",
    "    string = to_chars(string.lower().replace(' ', ''))\n",
    "    reversed = ''\n",
    "    for i in range(len(string), 0, -1):\n",
    "        reversed += string[i-1]\n",
    "    return string == reversed\n",
    "\n",
    "print(is_palindrome_for('neveroddoreven'))\n",
    "print(is_palindrome_for('Hello'))\n",
    "print(is_palindrome_for('A man, a plan, a canal: Panama.'))"
   ]
  },
  {
   "cell_type": "markdown",
   "id": "5ed64704",
   "metadata": {},
   "source": [
    "### Using a While Loop"
   ]
  },
  {
   "cell_type": "code",
   "execution_count": null,
   "id": "73c922b9",
   "metadata": {},
   "outputs": [],
   "source": [
    "def is_palindrome_while(string):\n",
    "    string = to_chars(string.lower().replace(' ', ''))\n",
    "    first, last = 0, len(string) - 1\n",
    "    while(first < last):\n",
    "        if(string[first] == string[last]):\n",
    "            first += 1\n",
    "            last -= 1\n",
    "        else:\n",
    "            return False\n",
    "    \n",
    "    return True\n"
   ]
  },
  {
   "cell_type": "code",
   "execution_count": null,
   "id": "28ee909f",
   "metadata": {},
   "outputs": [],
   "source": [
    "print(is_palindrome_while('neveroddoreven'))\n",
    "print(is_palindrome_while('Hello'))\n",
    "print(is_palindrome_while('A man, a plan, a canal: Panama.'))"
   ]
  },
  {
   "cell_type": "markdown",
   "id": "917b147d",
   "metadata": {},
   "source": [
    "### Check if a Number is a Python Palindrome"
   ]
  },
  {
   "cell_type": "code",
   "execution_count": null,
   "id": "eeb9ea4b",
   "metadata": {},
   "outputs": [],
   "source": [
    "def is_palindrome_number(number):\n",
    "    string = str(number)\n",
    "    return is_palindrome_for(string)"
   ]
  },
  {
   "cell_type": "code",
   "execution_count": null,
   "id": "c5bd9915",
   "metadata": {},
   "outputs": [],
   "source": [
    "print(is_palindrome_number(6326))\n",
    "print(is_palindrome_number(4444))"
   ]
  },
  {
   "cell_type": "markdown",
   "id": "2c218695",
   "metadata": {},
   "source": [
    "### Use Python String Indexing to Check if a String is a Palindrom\n"
   ]
  },
  {
   "cell_type": "code",
   "execution_count": null,
   "id": "978cccb6",
   "metadata": {},
   "outputs": [],
   "source": [
    "def is_palindrome_index(string):\n",
    "    string = to_chars(string.lower().replace(' ', ''))\n",
    "    return string == string[::-1]"
   ]
  },
  {
   "cell_type": "code",
   "execution_count": null,
   "id": "2ef2b7a0",
   "metadata": {},
   "outputs": [],
   "source": [
    "print(is_palindrome_index('neveroddoreven'))\n",
    "print(is_palindrome_index('Hello'))\n",
    "print(is_palindrome_index('A man, a plan, a canal: Panama.'))"
   ]
  },
  {
   "cell_type": "code",
   "execution_count": null,
   "id": "6ee79edf",
   "metadata": {},
   "outputs": [],
   "source": []
  }
 ],
 "metadata": {
  "kernelspec": {
   "display_name": "Python 3 (ipykernel)",
   "language": "python",
   "name": "python3"
  },
  "language_info": {
   "codemirror_mode": {
    "name": "ipython",
    "version": 3
   },
   "file_extension": ".py",
   "mimetype": "text/x-python",
   "name": "python",
   "nbconvert_exporter": "python",
   "pygments_lexer": "ipython3",
   "version": "3.8.10"
  }
 },
 "nbformat": 4,
 "nbformat_minor": 5
}
