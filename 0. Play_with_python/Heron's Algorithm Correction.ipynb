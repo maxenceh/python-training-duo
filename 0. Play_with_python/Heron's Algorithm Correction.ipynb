{
 "cells": [
  {
   "cell_type": "markdown",
   "id": "6701dc58",
   "metadata": {},
   "source": [
    "**Exercice 3 - Square Root Calculation**"
   ]
  },
  {
   "cell_type": "markdown",
   "id": "71e21c40",
   "metadata": {},
   "source": [
    "![Heron of Alexandria](heron_of_alexandria.png)"
   ]
  },
  {
   "cell_type": "markdown",
   "id": "ffde3851",
   "metadata": {},
   "source": [
    "Heron's Alogrithm to compute the square root of x:\n",
    "- Make a guess, for example x / 2\n",
    "- Divide original number by the guess\n",
    "- Find the average of these numbers\n",
    "- Use this average as next guess\n",
    "- Repeat until your guess^2 is close enough to x\n",
    "\n",
    "\n",
    "Define a function implementing this algorithm."
   ]
  },
  {
   "cell_type": "code",
   "execution_count": 2,
   "id": "a904de58",
   "metadata": {},
   "outputs": [],
   "source": [
    "def square_root(x, error, guess=None):\n",
    "    \"\"\"\n",
    "\n",
    "    Args:\n",
    "        x: The number we want to compute the square root\n",
    "        error: The maximum difference between guess^2 and x we accept\n",
    "        guess: The first guess for square toor of x\n",
    "\n",
    "    Returns:\n",
    "\n",
    "    \"\"\"\n",
    "    guess = guess or x / 2\n",
    "\n",
    "    while abs(x - guess**2) > error:\n",
    "        print(guess)\n",
    "        guess = (x / guess + guess) / 2\n",
    "\n",
    "    return guess"
   ]
  },
  {
   "cell_type": "code",
   "execution_count": null,
   "id": "0043309f",
   "metadata": {},
   "outputs": [],
   "source": []
  }
 ],
 "metadata": {
  "kernelspec": {
   "display_name": "Python 3 (ipykernel)",
   "language": "python",
   "name": "python3"
  },
  "language_info": {
   "codemirror_mode": {
    "name": "ipython",
    "version": 3
   },
   "file_extension": ".py",
   "mimetype": "text/x-python",
   "name": "python",
   "nbconvert_exporter": "python",
   "pygments_lexer": "ipython3",
   "version": "3.8.10"
  }
 },
 "nbformat": 4,
 "nbformat_minor": 5
}
