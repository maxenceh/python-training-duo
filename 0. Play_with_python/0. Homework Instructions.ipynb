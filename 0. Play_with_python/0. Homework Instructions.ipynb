{
 "cells": [
  {
   "cell_type": "markdown",
   "metadata": {},
   "source": [
    "# <center> Homework Instructions\n",
    "\n",
    "\n",
    "### 1. Exercise : `for` loop\n",
    "\n",
    "You will find the exercises in the notebook `5.1. USE CASE - For Loop and Strings - Enoncé.ipynb`\n",
    "\n",
    "\n",
    "### 2. Palindrome Use case\n",
    "\n",
    "You will find the exercises in the notebook `6.1. USE CASE - Palindromes - Enoncé.ipynb`\n",
    "\n",
    "You can use several methods to solve this exercise, let's start with two:\n",
    "    - Using a for loop\n",
    "    - Using string indexing\n",
    "\n",
    "### 3. Lesson time\n",
    "\n",
    "Take some time to read the notebook: `6. While Loops.ipynb`.\n",
    "We will pass quickly on it during next session. If something is not clear, prepare some questions. We will answer them at the beginning of the training.\n",
    "\n",
    "Try and solve the 3 exercises at the end of the notebook\n",
    "\n",
    "### 4. Palindrome #2\n",
    "Let's go back to this problem with a different approach. Solve the problem using a `while` loop.\n",
    "\n",
    "\n",
    "### 5. To go further:  \n",
    "\n",
    "- Read the notebook `7. Dictionaries.ipynb`\n",
    "- Try and solve the exercises"
   ]
  }
 ],
 "metadata": {
  "kernelspec": {
   "display_name": "Python 3",
   "language": "python",
   "name": "python3"
  },
  "language_info": {
   "codemirror_mode": {
    "name": "ipython",
    "version": 3
   },
   "file_extension": ".py",
   "mimetype": "text/x-python",
   "name": "python",
   "nbconvert_exporter": "python",
   "pygments_lexer": "ipython3",
   "version": "3.7.6"
  }
 },
 "nbformat": 4,
 "nbformat_minor": 5
}
