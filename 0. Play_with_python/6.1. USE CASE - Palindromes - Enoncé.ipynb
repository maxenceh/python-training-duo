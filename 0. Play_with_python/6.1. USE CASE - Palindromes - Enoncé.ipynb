{
 "cells": [
  {
   "cell_type": "markdown",
   "metadata": {},
   "source": [
    "# <center> Use Case - Palindromes"
   ]
  },
  {
   "cell_type": "markdown",
   "metadata": {},
   "source": [
    "This use case consists in building function around Palindrome\n",
    "    \n",
    "A palindrome is a string that is the same if read from left to right, or for right to left\n",
    "    \n",
    "**Examples**\n",
    "\n",
    "`neveroddoreven` is a palindrome.\n",
    "\n",
    "`hello` is NOT a palindrome.\n",
    "\n",
    "`A man, a plan, a canal: Panama` is a palindrome."
   ]
  },
  {
   "cell_type": "markdown",
   "metadata": {},
   "source": [
    "### Using a For Loop\n",
    "\n",
    "Create a function that checks if a word is a palindrom using for loop."
   ]
  },
  {
   "cell_type": "code",
   "execution_count": null,
   "metadata": {},
   "outputs": [],
   "source": [
    "def is_palindrome_for(string):\n",
    "    \"\"\" \n",
    "    Palindrome checker\n",
    "    \n",
    "    Parameters:\n",
    "        s is string\n",
    "    \n",
    "    Returns True if s is palindrome, False otherwise\n",
    "    \n",
    "    Examples:\n",
    "    >>> is_palindrome('neveroddoreven')\n",
    "    True\n",
    "    >>> is_palindrome('Hello')\n",
    "    False\n",
    "    >>> is_palindrome(to_chars('A man, a plan, a canal: Panama.'))\n",
    "    True\n",
    "    \"\"\"\n",
    "    # TODO"
   ]
  },
  {
   "cell_type": "code",
   "execution_count": null,
   "metadata": {},
   "outputs": [],
   "source": [
    "print(is_palindrome('neveroddoreven'))\n",
    "print(is_palindrome('Hello'))\n",
    "print(is_palindrome('A man, a plan, a canal: Panama.'))"
   ]
  },
  {
   "cell_type": "markdown",
   "metadata": {},
   "source": [
    "### Using a While Loop\n",
    "\n",
    "Create a function that checks if a word is a palindrom using a while loop."
   ]
  },
  {
   "cell_type": "code",
   "execution_count": null,
   "metadata": {},
   "outputs": [],
   "source": [
    "def is_palindrome_while(string):\n",
    "    \"\"\" \n",
    "    Palindrome checker\n",
    "    \n",
    "    Parameters:\n",
    "        s is string\n",
    "    \n",
    "    Returns True if s is palindrome, False otherwise\n",
    "    \n",
    "    Examples:\n",
    "    >>> is_palindrome('neveroddoreven')\n",
    "    True\n",
    "    >>> is_palindrome('Hello')\n",
    "    False\n",
    "    >>> is_palindrome(to_chars('A man, a plan, a canal: Panama.'))\n",
    "    True\n",
    "    \"\"\"\n",
    "    # TODO\n"
   ]
  },
  {
   "cell_type": "code",
   "execution_count": null,
   "metadata": {},
   "outputs": [],
   "source": [
    "print(is_palindrome_while('neveroddoreven'))\n",
    "print(is_palindrome_while('Hello'))\n",
    "print(is_palindrome_while('A man, a plan, a canal: Panama.'))"
   ]
  },
  {
   "cell_type": "markdown",
   "metadata": {},
   "source": [
    "### Check if a Number is a Python Palindrome\n",
    "\n",
    "Create a function that checks if a word is a palindrom using a while loop."
   ]
  },
  {
   "cell_type": "code",
   "execution_count": null,
   "metadata": {},
   "outputs": [],
   "source": [
    "def is_palindrome_number(number):\n",
    "    \"\"\"\n",
    "    >>> is_palindrome_number(6326)\n",
    "    False\n",
    "    \n",
    "    >>> print(is_palindrome_number(452254))\n",
    "    True\n",
    "    \"\"\"\n",
    "    # TODO"
   ]
  },
  {
   "cell_type": "code",
   "execution_count": null,
   "metadata": {},
   "outputs": [],
   "source": [
    "print(is_palindrome_number(6326))\n",
    "print(is_palindrome_number(452254))"
   ]
  },
  {
   "cell_type": "markdown",
   "metadata": {},
   "source": [
    "### Use Python String Indexing to Check if a String is a Palindrom\n",
    "\n",
    "Create a function that checks if a word is a palindrom using a string indexing."
   ]
  },
  {
   "cell_type": "code",
   "execution_count": null,
   "metadata": {},
   "outputs": [],
   "source": [
    "def is_palindrome_index(string):\n",
    "    \"\"\" \n",
    "    Palindrome checker\n",
    "    \n",
    "    Parameters:\n",
    "        s is string\n",
    "    \n",
    "    Returns True if s is palindrome, False otherwise\n",
    "    \n",
    "    Examples:\n",
    "    >>> is_palindrome('neveroddoreven')\n",
    "    True\n",
    "    >>> is_palindrome('Hello')\n",
    "    False\n",
    "    >>> is_palindrome(to_chars('A man, a plan, a canal: Panama.'))\n",
    "    True\n",
    "    \"\"\"\n",
    "    # TODO\n",
    "    "
   ]
  },
  {
   "cell_type": "code",
   "execution_count": null,
   "metadata": {},
   "outputs": [],
   "source": [
    "print(is_palindrome_index('neveroddoreven'))\n",
    "print(is_palindrome_index('Hello'))\n",
    "print(is_palindrome_index('A man, a plan, a canal: Panama.'))"
   ]
  }
 ],
 "metadata": {
  "kernelspec": {
   "display_name": "Python 3",
   "language": "python",
   "name": "python3"
  },
  "language_info": {
   "codemirror_mode": {
    "name": "ipython",
    "version": 3
   },
   "file_extension": ".py",
   "mimetype": "text/x-python",
   "name": "python",
   "nbconvert_exporter": "python",
   "pygments_lexer": "ipython3",
   "version": "3.7.6"
  }
 },
 "nbformat": 4,
 "nbformat_minor": 5
}
